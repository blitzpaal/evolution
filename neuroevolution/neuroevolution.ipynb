{
 "cells": [
  {
   "cell_type": "markdown",
   "id": "aa744f2c",
   "metadata": {
    "slideshow": {
     "slide_type": "slide"
    }
   },
   "source": [
    "# <center> EVOLUTIONARY COMPUTATION \n",
    "## <center> EVOLUTION OF NEURAL NETWORKS\n",
    "<center>\n",
    "<img src=\"../imgs/logo.png\" width=\"30%\"></center>"
   ]
  },
  {
   "cell_type": "markdown",
   "id": "4b85de1f",
   "metadata": {},
   "source": [
    "<center> Paul Templier - paul.templier@isae-supaero.fr"
   ]
  },
  {
   "cell_type": "markdown",
   "id": "broken-charleston",
   "metadata": {
    "slideshow": {
     "slide_type": "slide"
    }
   },
   "source": [
    "## Motivation"
   ]
  },
  {
   "cell_type": "markdown",
   "id": "polish-validation",
   "metadata": {
    "cell_style": "center"
   },
   "source": [
    "<center><img src=\"../imgs/agent_representations.png\" width=\"50%\">\n",
    "\n",
    "<!-- $\\pi: s\\rightarrow a$ -->"
   ]
  },
  {
   "cell_type": "markdown",
   "id": "amended-cologne",
   "metadata": {
    "cell_style": "center",
    "slideshow": {
     "slide_type": "subslide"
    }
   },
   "source": [
    "## Evolution of neural networks\n",
    "\n",
    "<center><img src=\"../imgs/intro_neuroevolution.png\" width=\"50%\">\n",
    "\n",
    "*Miikkulainen, Risto. \"Evolution of neural networks.\" Proceedings of the Genetic and Evolutionary Computation Conference Companion. 2017*"
   ]
  },
  {
   "cell_type": "markdown",
   "id": "gross-lafayette",
   "metadata": {
    "slideshow": {
     "slide_type": "slide"
    }
   },
   "source": [
    "## Neural Networks"
   ]
  },
  {
   "cell_type": "markdown",
   "id": "legal-prototype",
   "metadata": {},
   "source": [
    "### Neuron model\n",
    "<center><img src=\"../imgs/neuron.jpg\" width=\"50%\">\n"
   ]
  },
  {
   "cell_type": "markdown",
   "id": "miniature-township",
   "metadata": {
    "slideshow": {
     "slide_type": "subslide"
    }
   },
   "source": [
    "### Artificial neuron\n",
    "\n",
    "<center><img src=\"../imgs/neuron_model.jpeg\" width=\"50%\">\n",
    "\n",
    "<center>cs231n.github.io\n",
    "\n",
    "<!-- $f(\\sum_{i}{w_i x_i} +b)$ -->\n",
    "\n",
    "$w_i$: weights  \n",
    "$x_i$: output of previous neurons  \n",
    "$b$: bias  \n",
    "$f$: activation function to break linearity \n",
    "\n",
    "\n"
   ]
  },
  {
   "cell_type": "markdown",
   "id": "2832487f",
   "metadata": {
    "slideshow": {
     "slide_type": "subslide"
    }
   },
   "source": [
    "### Artificial Neural Network\n",
    "<center><img src=\"../imgs/neural_network.png\" width=\"50%\">\n",
    "    \n",
    "    \n",
    "$(y_1 ... y_n) = F(x_1 ... x_m)$\n",
    "    \n",
    "    \n",
    "*Source: https://medium.com/swlh/neural-networks-4b6f719f9d75*"
   ]
  },
  {
   "cell_type": "markdown",
   "id": "initial-railway",
   "metadata": {
    "cell_style": "center",
    "slideshow": {
     "slide_type": "slide"
    }
   },
   "source": [
    "## <center> Exercise </center>\n",
    "<br>  \n",
    "<center> Break into groups and discuss: </center>\n",
    "<br>\n",
    "<center>What do we need in the genome to optimize a neural network? How would you encode it? </center>\n",
    "<br>\n",
    "<center>Can you find mutation and crossover operators on your encoding?</center>"
   ]
  },
  {
   "cell_type": "markdown",
   "id": "structured-winning",
   "metadata": {
    "slideshow": {
     "slide_type": "slide"
    }
   },
   "source": [
    "# <center> NEUROEVOLUTION </center>"
   ]
  },
  {
   "cell_type": "markdown",
   "id": "closing-australia",
   "metadata": {
    "cell_style": "split",
    "slideshow": {
     "slide_type": "-"
    }
   },
   "source": [
    "<center><img src=\"../imgs/cellular_encoding.png\" width=\"60%\">\n",
    "\n",
    "Gruau, Frederic, and Darrell Whitley. \"Adding learning to the cellular development of neural networks: Evolution and the Baldwin effect.\" Evolutionary computation 1.3 (1993): 213-233. "
   ]
  },
  {
   "cell_type": "markdown",
   "id": "weird-conspiracy",
   "metadata": {
    "cell_style": "split"
   },
   "source": [
    "<center><img src=\"../imgs/barr.png\" width=\"50%\">\n",
    "\n",
    "Fleischer, Kurt, and Alan H. Barr. \"A simulation testbed for the study of multicellular development: The multiple mechanisms of morphogenesis.\" 1994 "
   ]
  },
  {
   "cell_type": "markdown",
   "id": "reliable-abortion",
   "metadata": {
    "slideshow": {
     "slide_type": "subslide"
    }
   },
   "source": [
    "# <center> NeuroEvolution of Augmenting Topologies (NEAT) </center>"
   ]
  },
  {
   "cell_type": "markdown",
   "id": "final-hybrid",
   "metadata": {
    "cell_style": "center"
   },
   "source": [
    "<center><img src=\"../imgs/neat_encoding.png\" width=\"60%\">\n",
    "        \n",
    "Stanley, Kenneth O., and Risto Miikkulainen. \"Evolving neural networks through augmenting topologies.\" Evolutionary computation 10.2 (2002): 99-127 "
   ]
  },
  {
   "cell_type": "markdown",
   "id": "silver-infection",
   "metadata": {},
   "source": [
    "    \n",
    "Stanley, Kenneth O., and Risto Miikkulainen. \"Evolving neural networks through augmenting topologies.\" Evolutionary computation 10.2 (2002): 99-127 "
   ]
  },
  {
   "cell_type": "markdown",
   "id": "fitted-centre",
   "metadata": {
    "slideshow": {
     "slide_type": "subslide"
    }
   },
   "source": [
    "# <center> NEUROEVOLUTION: FIXED ARCHITECTURE </center>\n",
    "\n",
    "<center><img src=\"../imgs/ne_basics.png\" width=\"50%\">\n",
    "\n",
    "Miikkulainen, Risto. \"Evolution of neural networks.\" Proceedings of the Genetic and Evolutionary Computation Conference Companion. 2017. "
   ]
  },
  {
   "cell_type": "markdown",
   "id": "7f7cc9dc",
   "metadata": {
    "slideshow": {
     "slide_type": "subslide"
    }
   },
   "source": [
    "# <center> PROBLEMS WITH NEUROEVOLUTION </center>\n",
    "\n",
    "<center><img src=\"../imgs/ne_problems.png\" width=\"40%\">\n",
    "\n",
    "Miikkulainen, Risto. \"Evolution of neural networks.\" Proceedings of the Genetic and Evolutionary Computation Conference Companion. 2017. "
   ]
  },
  {
   "cell_type": "markdown",
   "id": "5dc2e085",
   "metadata": {
    "slideshow": {
     "slide_type": "slide"
    }
   },
   "source": [
    "# <center> INDIRECT ENCODING </center>\n",
    "\n",
    "<center><img src=\"../imgs/encoding.png\" width=\"50%\">\n",
    "    \n"
   ]
  },
  {
   "cell_type": "markdown",
   "id": "27eb7a98",
   "metadata": {
    "slideshow": {
     "slide_type": "subslide"
    }
   },
   "source": [
    "# <center> HyperNEAT </center>\n",
    "\n",
    "<center><img src=\"../imgs/indirect_hyperneat.png\" width=\"50%\">\n",
    "\n",
    "<center><img src=\"../imgs/hyperneat.png\" width=\"50%\">\n",
    "    \n",
    "Stanley, Kenneth O.; D'Ambrosio, David B.; Gauci, Jason (2009-01-14). \"A Hypercube-Based Encoding for Evolving Large-Scale Neural Networks\". Artificial Life journal 15(2), Cambridge, MA: MIT Press, 2009"
   ]
  },
  {
   "cell_type": "markdown",
   "id": "c1b3a847",
   "metadata": {
    "slideshow": {
     "slide_type": "subslide"
    }
   },
   "source": [
    "# <center> GENE: Geometric Encoding for NeuroEvolution </center>\n",
    "\n",
    "<center><img src=\"../imgs/indirect_transform.png\" width=\"50%\">\n",
    "   "
   ]
  },
  {
   "cell_type": "markdown",
   "id": "50dfcf11",
   "metadata": {
    "cell_style": "split"
   },
   "source": [
    "<center><img src=\"../imgs/coordsnet_coordinates.png\" width=\"40%\">"
   ]
  },
  {
   "cell_type": "markdown",
   "id": "a6bff363",
   "metadata": {
    "cell_style": "split"
   },
   "source": [
    "<center><img src=\"../imgs/coordsnet_graph.png\" width=\"50%\">"
   ]
  },
  {
   "cell_type": "markdown",
   "id": "89a296ae",
   "metadata": {},
   "source": [
    "*Paul Templier, Emmanuel Rachelson, and Dennis G. Wilson. 2021. A Geometric Encoding for Neural Network Evolution. In 2021 Genetic and Evolutionary Computation Conference (GECCO ’21), July 10–14, 2021, Lille, France. ACM, New York, NY, USA, 9 pages. https://doi.org/10.1145/3449639.3459361*"
   ]
  },
  {
   "cell_type": "markdown",
   "id": "803f40bd",
   "metadata": {
    "slideshow": {
     "slide_type": "slide"
    }
   },
   "source": [
    "# Notebook"
   ]
  },
  {
   "cell_type": "code",
   "execution_count": null,
   "id": "legislative-touch",
   "metadata": {
    "slideshow": {
     "slide_type": "-"
    }
   },
   "outputs": [],
   "source": [
    "using Pkg\n",
    "pkg\"add PyCall Flux Plots Random Statistics ArcadeLearningEnvironment Reel Images ImageView\""
   ]
  },
  {
   "cell_type": "code",
   "execution_count": 32,
   "id": "center-exposure",
   "metadata": {
    "slideshow": {
     "slide_type": "-"
    }
   },
   "outputs": [],
   "source": [
    "using PyCall\n",
    "using Flux\n",
    "using Plots\n",
    "using Random\n",
    "using Statistics"
   ]
  },
  {
   "cell_type": "code",
   "execution_count": 33,
   "id": "portable-future",
   "metadata": {
    "scrolled": true
   },
   "outputs": [
    {
     "data": {
      "text/plain": [
       "PyObject <module 'gym' from 'C:\\\\Users\\\\pajo8\\\\.julia\\\\conda\\\\3\\\\lib\\\\site-packages\\\\gym\\\\__init__.py'>"
      ]
     },
     "execution_count": 33,
     "metadata": {},
     "output_type": "execute_result"
    }
   ],
   "source": [
    "gym = pyimport(\"gym\")"
   ]
  },
  {
   "cell_type": "markdown",
   "id": "friendly-staff",
   "metadata": {
    "slideshow": {
     "slide_type": "subslide"
    }
   },
   "source": [
    "## Gym CartPole\n",
    "\n",
    "<img src=\"../imgs/cartpole.gif\" width=\"50%\">\n",
    "\n",
    "https://github.com/adibyte95/CartPole-OpenAI-GYM/blob/master/gif%20images/reinforcement-gif.gif"
   ]
  },
  {
   "cell_type": "code",
   "execution_count": 34,
   "id": "happy-method",
   "metadata": {
    "cell_style": "center",
    "slideshow": {
     "slide_type": "subslide"
    }
   },
   "outputs": [
    {
     "data": {
      "text/plain": [
       "Individual"
      ]
     },
     "execution_count": 34,
     "metadata": {},
     "output_type": "execute_result"
    }
   ],
   "source": [
    "mutable struct Individual\n",
    "    genes::Array{Float64}\n",
    "    fitness::Float64\n",
    "    layers::Array{Int64}\n",
    "    model\n",
    "end\n",
    "\n",
    "function Individual(layers::Array, genes::Array{Float64})\n",
    "    model = make_network(layers)\n",
    "    \n",
    "    ind = Individual(genes, -Inf, layers, model)\n",
    "    \n",
    "    set_weights!(ind) \n",
    "    ind\n",
    "end\n",
    "\n",
    "function Individual(layers::Array)\n",
    "    model = make_network(layers)\n",
    "    \n",
    "    param_lengths = [length(p) for p in params(model)]\n",
    "    genes = rand(sum(param_lengths))\n",
    "    \n",
    "    ind = Individual(genes, -Inf, layers, model)\n",
    "    set_weights!(ind)  \n",
    "    ind\n",
    "end"
   ]
  },
  {
   "cell_type": "code",
   "execution_count": 35,
   "id": "voluntary-communist",
   "metadata": {
    "cell_style": "center",
    "slideshow": {
     "slide_type": "subslide"
    }
   },
   "outputs": [
    {
     "data": {
      "text/plain": [
       "mutate (generic function with 1 method)"
      ]
     },
     "execution_count": 35,
     "metadata": {},
     "output_type": "execute_result"
    }
   ],
   "source": [
    "function set_weights!(ind::Individual)    \n",
    "    start = 1\n",
    "    for p in params(ind.model)\n",
    "        p = reshape(ind.genes[start:(start+length(p)-1)], size(p))\n",
    "        start += length(p)\n",
    "    end\n",
    "    ind\n",
    "end\n",
    "\n",
    "function make_network(layers::Array)\n",
    "    l = []\n",
    "    for i in 1:length(layers)-1\n",
    "        d = Dense(layers[i], layers[i+1], Flux.relu)\n",
    "        push!(l, d)\n",
    "    end\n",
    "    Chain(l...)\n",
    "end\n",
    "\n",
    "function mutate(ind::Individual; \n",
    "        mutation_rate::Float64=1.0/length(ind.genes))\n",
    "    new_genes = copy(ind.genes)\n",
    "    for i in eachindex(new_genes)\n",
    "        if rand() < mutation_rate\n",
    "            new_genes[i] = rand()\n",
    "        end\n",
    "    end\n",
    "    Individual(ind.layers, new_genes)\n",
    "end"
   ]
  },
  {
   "cell_type": "markdown",
   "id": "phantom-amino",
   "metadata": {
    "slideshow": {
     "slide_type": "subslide"
    }
   },
   "source": [
    "## Cartpole"
   ]
  },
  {
   "cell_type": "code",
   "execution_count": 36,
   "id": "included-merit",
   "metadata": {},
   "outputs": [
    {
     "data": {
      "text/plain": [
       "evaluate! (generic function with 1 method)"
      ]
     },
     "execution_count": 36,
     "metadata": {},
     "output_type": "execute_result"
    }
   ],
   "source": [
    "function play_cartpole(ind::Individual, render=false)\n",
    "    env_name=\"CartPole-v1\"\n",
    "    env = gym.make(env_name)\n",
    "    env.seed(0)\n",
    "    obs = env.reset()\n",
    "    total_reward = 0.0\n",
    "    done = false\n",
    "    for i in 1:200\n",
    "        action = ind.model(obs)\n",
    "        action = argmax(action) - 1\n",
    "        \n",
    "        obs, reward, done, _ = env.step(action)\n",
    "        if render\n",
    "            env.render(mode=\"human\")\n",
    "        end\n",
    "        total_reward += reward\n",
    "    end\n",
    "    env.close()\n",
    "    total_reward\n",
    "end\n",
    "\n",
    "function evaluate!(ind::Individual, objective::Function)\n",
    "    ind.fitness = objective(ind)\n",
    "end"
   ]
  },
  {
   "cell_type": "code",
   "execution_count": 37,
   "id": "acting-windows",
   "metadata": {
    "slideshow": {
     "slide_type": "-"
    }
   },
   "outputs": [
    {
     "data": {
      "text/plain": [
       "2299"
      ]
     },
     "execution_count": 37,
     "metadata": {},
     "output_type": "execute_result"
    }
   ],
   "source": [
    "layers = [4, 16, 16, 2]\n",
    "ind = Individual(layers)\n",
    "n = length(ind.genes)\n",
    "n_gens = Int(round(n * log(n)))"
   ]
  },
  {
   "cell_type": "code",
   "execution_count": 8,
   "id": "durable-means",
   "metadata": {
    "scrolled": false,
    "slideshow": {
     "slide_type": "subslide"
    }
   },
   "outputs": [
    {
     "ename": "LoadError",
     "evalue": "UndefVarError: one_plus_one not defined",
     "output_type": "error",
     "traceback": [
      "UndefVarError: one_plus_one not defined",
      "",
      "Stacktrace:",
      " [1] top-level scope",
      "   @ In[8]:1",
      " [2] eval",
      "   @ .\\boot.jl:360 [inlined]",
      " [3] include_string(mapexpr::typeof(REPL.softscope), mod::Module, code::String, filename::String)",
      "   @ Base .\\loading.jl:1094"
     ]
    }
   ],
   "source": [
    "fits, parent = one_plus_one(layers, n_gens, play_cartpole)\n",
    "plot(fits)"
   ]
  },
  {
   "cell_type": "markdown",
   "id": "animal-silicon",
   "metadata": {
    "slideshow": {
     "slide_type": "subslide"
    }
   },
   "source": [
    "## 1+$\\lambda$ EA"
   ]
  },
  {
   "cell_type": "code",
   "execution_count": 38,
   "id": "32d7d5d4",
   "metadata": {},
   "outputs": [
    {
     "data": {
      "text/plain": [
       "one_plus_lambda (generic function with 1 method)"
      ]
     },
     "execution_count": 38,
     "metadata": {},
     "output_type": "execute_result"
    }
   ],
   "source": [
    "function one_plus_lambda(layers::Array, num_generations::Int, f::Function, 𝜆::Int)\n",
    "\n",
    "    fits = zeros(num_generations)\n",
    "    expert = Individual(layers::Array)\n",
    "    evaluate!(expert, f)\n",
    "\n",
    "    for i in eachindex(fits)\n",
    "        population = Array{Individual}(undef, 𝜆)\n",
    "        best = 1\n",
    "        for j in eachindex(population)\n",
    "            population[j] = mutate(expert)\n",
    "            evaluate!(population[j], f)\n",
    "            if population[j].fitness > population[best].fitness\n",
    "                best = j\n",
    "            end\n",
    "        end\n",
    "\n",
    "        if population[best].fitness >= expert.fitness\n",
    "            expert = population[best]\n",
    "        end\n",
    "\n",
    "        fits[i] = expert.fitness\n",
    "        print(i, \"/\",  num_generations, \" > \", expert.fitness, \"\\t\\t\\r\")\n",
    "    end\n",
    "    fits, expert\n",
    "end\n"
   ]
  },
  {
   "cell_type": "code",
   "execution_count": 39,
   "id": "41365571",
   "metadata": {
    "slideshow": {
     "slide_type": "subslide"
    }
   },
   "outputs": [
    {
     "data": {
      "text/plain": [
       "460"
      ]
     },
     "execution_count": 39,
     "metadata": {},
     "output_type": "execute_result"
    }
   ],
   "source": [
    "𝜆=5\n",
    "layers = [4, 16, 16, 2]\n",
    "ind = Individual(layers)\n",
    "n = length(ind.genes)\n",
    "n_gens = Int(round(n * log(n) / 𝜆))"
   ]
  },
  {
   "cell_type": "code",
   "execution_count": 40,
   "id": "clinical-illinois",
   "metadata": {
    "slideshow": {
     "slide_type": "-"
    }
   },
   "outputs": [
    {
     "name": "stdout",
     "output_type": "stream",
     "text": [
      "460/460 > 200.0\t\t9.0\t\t\t\t/460 > 179.0\t\t\t\t\t\t\t\t\t\t\t\t\t\t\t\t460 > 200.0\t\t\t\t\t\t > 200.0\t\t\t\t/460 > 200.0\t\t\t\t\t\t\t\t > 200.0\t\t200.0\t\t/460 > 200.0\t\t\t\t\t\t\t\t\t\t\t\t200.0\t\t\t\t\t\t\t\t\t\t\t\t460 > 200.0\t\t/460 > 200.0\t\t > 200.0\t\t\t\t\t\t > 200.0\t\t > 200.0\t\t > 200.0\t\t460 > 200.0\t\t\t\t\t\t\t\t\t\t\t\t/460 > 200.0\t\t200.0\t\t/460 > 200.0\t\t/460 > 200.0\t\t\t\t200.0\t\t460 > 200.0\t\t > 200.0\t\t\t\t\t\t200.0\t\t/460 > 200.0\t\t > 200.0\t\t\t\t\t\t\t\t/460 > 200.0\t\t\t\t\t\t\t\t\t\t\t\t460 > 200.0\t\t\t\t\t\t\t\t\t\t\t\t\t\t\t\t\t\t\t\t > 200.0\t\t/460 > 200.0\t\t\t\t/460 > 200.0\t\t\t\t\t\t\t\t\t\t\t\t\t\t\t\t460 > 200.0\t\t\t\t\t\t\t\t\t\t\t\t\t\t/460 > 200.0\t\t\t\t460 > 200.0\t\t\r"
     ]
    },
    {
     "data": {
      "image/svg+xml": [
       "<?xml version=\"1.0\" encoding=\"utf-8\"?>\n",
       "<svg xmlns=\"http://www.w3.org/2000/svg\" xmlns:xlink=\"http://www.w3.org/1999/xlink\" width=\"600\" height=\"400\" viewBox=\"0 0 2400 1600\">\n",
       "<defs>\n",
       "  <clipPath id=\"clip1000\">\n",
       "    <rect x=\"0\" y=\"0\" width=\"2400\" height=\"1600\"/>\n",
       "  </clipPath>\n",
       "</defs>\n",
       "<path clip-path=\"url(#clip1000)\" d=\"\n",
       "M0 1600 L2400 1600 L2400 0 L0 0  Z\n",
       "  \" fill=\"#ffffff\" fill-rule=\"evenodd\" fill-opacity=\"1\"/>\n",
       "<defs>\n",
       "  <clipPath id=\"clip1001\">\n",
       "    <rect x=\"480\" y=\"0\" width=\"1681\" height=\"1600\"/>\n",
       "  </clipPath>\n",
       "</defs>\n",
       "<path clip-path=\"url(#clip1000)\" d=\"\n",
       "M162.964 1486.45 L2352.76 1486.45 L2352.76 47.2441 L162.964 47.2441  Z\n",
       "  \" fill=\"#ffffff\" fill-rule=\"evenodd\" fill-opacity=\"1\"/>\n",
       "<defs>\n",
       "  <clipPath id=\"clip1002\">\n",
       "    <rect x=\"162\" y=\"47\" width=\"2191\" height=\"1440\"/>\n",
       "  </clipPath>\n",
       "</defs>\n",
       "<polyline clip-path=\"url(#clip1002)\" style=\"stroke:#000000; stroke-width:2; stroke-opacity:0.1; fill:none\" points=\"\n",
       "  220.438,1486.45 220.438,47.2441 \n",
       "  \"/>\n",
       "<polyline clip-path=\"url(#clip1002)\" style=\"stroke:#000000; stroke-width:2; stroke-opacity:0.1; fill:none\" points=\"\n",
       "  670.513,1486.45 670.513,47.2441 \n",
       "  \"/>\n",
       "<polyline clip-path=\"url(#clip1002)\" style=\"stroke:#000000; stroke-width:2; stroke-opacity:0.1; fill:none\" points=\"\n",
       "  1120.59,1486.45 1120.59,47.2441 \n",
       "  \"/>\n",
       "<polyline clip-path=\"url(#clip1002)\" style=\"stroke:#000000; stroke-width:2; stroke-opacity:0.1; fill:none\" points=\"\n",
       "  1570.66,1486.45 1570.66,47.2441 \n",
       "  \"/>\n",
       "<polyline clip-path=\"url(#clip1002)\" style=\"stroke:#000000; stroke-width:2; stroke-opacity:0.1; fill:none\" points=\"\n",
       "  2020.74,1486.45 2020.74,47.2441 \n",
       "  \"/>\n",
       "<polyline clip-path=\"url(#clip1002)\" style=\"stroke:#000000; stroke-width:2; stroke-opacity:0.1; fill:none\" points=\"\n",
       "  162.964,1188.85 2352.76,1188.85 \n",
       "  \"/>\n",
       "<polyline clip-path=\"url(#clip1002)\" style=\"stroke:#000000; stroke-width:2; stroke-opacity:0.1; fill:none\" points=\"\n",
       "  162.964,821.889 2352.76,821.889 \n",
       "  \"/>\n",
       "<polyline clip-path=\"url(#clip1002)\" style=\"stroke:#000000; stroke-width:2; stroke-opacity:0.1; fill:none\" points=\"\n",
       "  162.964,454.933 2352.76,454.933 \n",
       "  \"/>\n",
       "<polyline clip-path=\"url(#clip1002)\" style=\"stroke:#000000; stroke-width:2; stroke-opacity:0.1; fill:none\" points=\"\n",
       "  162.964,87.9763 2352.76,87.9763 \n",
       "  \"/>\n",
       "<polyline clip-path=\"url(#clip1000)\" style=\"stroke:#000000; stroke-width:4; stroke-opacity:1; fill:none\" points=\"\n",
       "  162.964,1486.45 2352.76,1486.45 \n",
       "  \"/>\n",
       "<polyline clip-path=\"url(#clip1000)\" style=\"stroke:#000000; stroke-width:4; stroke-opacity:1; fill:none\" points=\"\n",
       "  162.964,1486.45 162.964,47.2441 \n",
       "  \"/>\n",
       "<polyline clip-path=\"url(#clip1000)\" style=\"stroke:#000000; stroke-width:4; stroke-opacity:1; fill:none\" points=\"\n",
       "  220.438,1486.45 220.438,1469.18 \n",
       "  \"/>\n",
       "<polyline clip-path=\"url(#clip1000)\" style=\"stroke:#000000; stroke-width:4; stroke-opacity:1; fill:none\" points=\"\n",
       "  670.513,1486.45 670.513,1469.18 \n",
       "  \"/>\n",
       "<polyline clip-path=\"url(#clip1000)\" style=\"stroke:#000000; stroke-width:4; stroke-opacity:1; fill:none\" points=\"\n",
       "  1120.59,1486.45 1120.59,1469.18 \n",
       "  \"/>\n",
       "<polyline clip-path=\"url(#clip1000)\" style=\"stroke:#000000; stroke-width:4; stroke-opacity:1; fill:none\" points=\"\n",
       "  1570.66,1486.45 1570.66,1469.18 \n",
       "  \"/>\n",
       "<polyline clip-path=\"url(#clip1000)\" style=\"stroke:#000000; stroke-width:4; stroke-opacity:1; fill:none\" points=\"\n",
       "  2020.74,1486.45 2020.74,1469.18 \n",
       "  \"/>\n",
       "<polyline clip-path=\"url(#clip1000)\" style=\"stroke:#000000; stroke-width:4; stroke-opacity:1; fill:none\" points=\"\n",
       "  162.964,1188.85 189.241,1188.85 \n",
       "  \"/>\n",
       "<polyline clip-path=\"url(#clip1000)\" style=\"stroke:#000000; stroke-width:4; stroke-opacity:1; fill:none\" points=\"\n",
       "  162.964,821.889 189.241,821.889 \n",
       "  \"/>\n",
       "<polyline clip-path=\"url(#clip1000)\" style=\"stroke:#000000; stroke-width:4; stroke-opacity:1; fill:none\" points=\"\n",
       "  162.964,454.933 189.241,454.933 \n",
       "  \"/>\n",
       "<polyline clip-path=\"url(#clip1000)\" style=\"stroke:#000000; stroke-width:4; stroke-opacity:1; fill:none\" points=\"\n",
       "  162.964,87.9763 189.241,87.9763 \n",
       "  \"/>\n",
       "<path clip-path=\"url(#clip1000)\" d=\"M 0 0 M220.438 1508.44 Q216.827 1508.44 214.999 1512 Q213.193 1515.55 213.193 1522.67 Q213.193 1529.78 214.999 1533.35 Q216.827 1536.89 220.438 1536.89 Q224.073 1536.89 225.878 1533.35 Q227.707 1529.78 227.707 1522.67 Q227.707 1515.55 225.878 1512 Q224.073 1508.44 220.438 1508.44 M220.438 1504.73 Q226.249 1504.73 229.304 1509.34 Q232.383 1513.92 232.383 1522.67 Q232.383 1531.4 229.304 1536.01 Q226.249 1540.59 220.438 1540.59 Q214.628 1540.59 211.55 1536.01 Q208.494 1531.4 208.494 1522.67 Q208.494 1513.92 211.55 1509.34 Q214.628 1504.73 220.438 1504.73 Z\" fill=\"#000000\" fill-rule=\"evenodd\" fill-opacity=\"1\" /><path clip-path=\"url(#clip1000)\" d=\"M 0 0 M633.881 1535.98 L641.52 1535.98 L641.52 1509.62 L633.21 1511.29 L633.21 1507.03 L641.474 1505.36 L646.15 1505.36 L646.15 1535.98 L653.788 1535.98 L653.788 1539.92 L633.881 1539.92 L633.881 1535.98 Z\" fill=\"#000000\" fill-rule=\"evenodd\" fill-opacity=\"1\" /><path clip-path=\"url(#clip1000)\" d=\"M 0 0 M668.858 1508.44 Q665.247 1508.44 663.418 1512 Q661.612 1515.55 661.612 1522.67 Q661.612 1529.78 663.418 1533.35 Q665.247 1536.89 668.858 1536.89 Q672.492 1536.89 674.298 1533.35 Q676.126 1529.78 676.126 1522.67 Q676.126 1515.55 674.298 1512 Q672.492 1508.44 668.858 1508.44 M668.858 1504.73 Q674.668 1504.73 677.723 1509.34 Q680.802 1513.92 680.802 1522.67 Q680.802 1531.4 677.723 1536.01 Q674.668 1540.59 668.858 1540.59 Q663.048 1540.59 659.969 1536.01 Q656.913 1531.4 656.913 1522.67 Q656.913 1513.92 659.969 1509.34 Q663.048 1504.73 668.858 1504.73 Z\" fill=\"#000000\" fill-rule=\"evenodd\" fill-opacity=\"1\" /><path clip-path=\"url(#clip1000)\" d=\"M 0 0 M695.871 1508.44 Q692.26 1508.44 690.432 1512 Q688.626 1515.55 688.626 1522.67 Q688.626 1529.78 690.432 1533.35 Q692.26 1536.89 695.871 1536.89 Q699.506 1536.89 701.311 1533.35 Q703.14 1529.78 703.14 1522.67 Q703.14 1515.55 701.311 1512 Q699.506 1508.44 695.871 1508.44 M695.871 1504.73 Q701.682 1504.73 704.737 1509.34 Q707.816 1513.92 707.816 1522.67 Q707.816 1531.4 704.737 1536.01 Q701.682 1540.59 695.871 1540.59 Q690.061 1540.59 686.983 1536.01 Q683.927 1531.4 683.927 1522.67 Q683.927 1513.92 686.983 1509.34 Q690.061 1504.73 695.871 1504.73 Z\" fill=\"#000000\" fill-rule=\"evenodd\" fill-opacity=\"1\" /><path clip-path=\"url(#clip1000)\" d=\"M 0 0 M1088.23 1535.98 L1104.55 1535.98 L1104.55 1539.92 L1082.6 1539.92 L1082.6 1535.98 Q1085.26 1533.23 1089.85 1528.6 Q1094.45 1523.95 1095.63 1522.61 Q1097.88 1520.08 1098.76 1518.35 Q1099.66 1516.59 1099.66 1514.9 Q1099.66 1512.14 1097.72 1510.41 Q1095.8 1508.67 1092.69 1508.67 Q1090.49 1508.67 1088.04 1509.43 Q1085.61 1510.2 1082.83 1511.75 L1082.83 1507.03 Q1085.66 1505.89 1088.11 1505.31 Q1090.56 1504.73 1092.6 1504.73 Q1097.97 1504.73 1101.17 1507.42 Q1104.36 1510.11 1104.36 1514.6 Q1104.36 1516.73 1103.55 1518.65 Q1102.76 1520.54 1100.66 1523.14 Q1100.08 1523.81 1096.98 1527.03 Q1093.87 1530.22 1088.23 1535.98 Z\" fill=\"#000000\" fill-rule=\"evenodd\" fill-opacity=\"1\" /><path clip-path=\"url(#clip1000)\" d=\"M 0 0 M1119.62 1508.44 Q1116 1508.44 1114.18 1512 Q1112.37 1515.55 1112.37 1522.67 Q1112.37 1529.78 1114.18 1533.35 Q1116 1536.89 1119.62 1536.89 Q1123.25 1536.89 1125.05 1533.35 Q1126.88 1529.78 1126.88 1522.67 Q1126.88 1515.55 1125.05 1512 Q1123.25 1508.44 1119.62 1508.44 M1119.62 1504.73 Q1125.43 1504.73 1128.48 1509.34 Q1131.56 1513.92 1131.56 1522.67 Q1131.56 1531.4 1128.48 1536.01 Q1125.43 1540.59 1119.62 1540.59 Q1113.8 1540.59 1110.73 1536.01 Q1107.67 1531.4 1107.67 1522.67 Q1107.67 1513.92 1110.73 1509.34 Q1113.8 1504.73 1119.62 1504.73 Z\" fill=\"#000000\" fill-rule=\"evenodd\" fill-opacity=\"1\" /><path clip-path=\"url(#clip1000)\" d=\"M 0 0 M1146.63 1508.44 Q1143.02 1508.44 1141.19 1512 Q1139.38 1515.55 1139.38 1522.67 Q1139.38 1529.78 1141.19 1533.35 Q1143.02 1536.89 1146.63 1536.89 Q1150.26 1536.89 1152.07 1533.35 Q1153.9 1529.78 1153.9 1522.67 Q1153.9 1515.55 1152.07 1512 Q1150.26 1508.44 1146.63 1508.44 M1146.63 1504.73 Q1152.44 1504.73 1155.49 1509.34 Q1158.57 1513.92 1158.57 1522.67 Q1158.57 1531.4 1155.49 1536.01 Q1152.44 1540.59 1146.63 1540.59 Q1140.82 1540.59 1137.74 1536.01 Q1134.68 1531.4 1134.68 1522.67 Q1134.68 1513.92 1137.74 1509.34 Q1140.82 1504.73 1146.63 1504.73 Z\" fill=\"#000000\" fill-rule=\"evenodd\" fill-opacity=\"1\" /><path clip-path=\"url(#clip1000)\" d=\"M 0 0 M1547.9 1521.29 Q1551.25 1522 1553.13 1524.27 Q1555.03 1526.54 1555.03 1529.87 Q1555.03 1534.99 1551.51 1537.79 Q1547.99 1540.59 1541.51 1540.59 Q1539.33 1540.59 1537.02 1540.15 Q1534.72 1539.73 1532.27 1538.88 L1532.27 1534.36 Q1534.22 1535.5 1536.53 1536.08 Q1538.84 1536.66 1541.37 1536.66 Q1545.77 1536.66 1548.06 1534.92 Q1550.37 1533.18 1550.37 1529.87 Q1550.37 1526.82 1548.22 1525.11 Q1546.09 1523.37 1542.27 1523.37 L1538.24 1523.37 L1538.24 1519.53 L1542.46 1519.53 Q1545.9 1519.53 1547.73 1518.16 Q1549.56 1516.77 1549.56 1514.18 Q1549.56 1511.52 1547.66 1510.11 Q1545.79 1508.67 1542.27 1508.67 Q1540.35 1508.67 1538.15 1509.09 Q1535.95 1509.5 1533.31 1510.38 L1533.31 1506.22 Q1535.97 1505.48 1538.29 1505.11 Q1540.63 1504.73 1542.69 1504.73 Q1548.01 1504.73 1551.11 1507.17 Q1554.21 1509.57 1554.21 1513.69 Q1554.21 1516.56 1552.57 1518.55 Q1550.93 1520.52 1547.9 1521.29 Z\" fill=\"#000000\" fill-rule=\"evenodd\" fill-opacity=\"1\" /><path clip-path=\"url(#clip1000)\" d=\"M 0 0 M1570.09 1508.44 Q1566.48 1508.44 1564.65 1512 Q1562.85 1515.55 1562.85 1522.67 Q1562.85 1529.78 1564.65 1533.35 Q1566.48 1536.89 1570.09 1536.89 Q1573.73 1536.89 1575.53 1533.35 Q1577.36 1529.78 1577.36 1522.67 Q1577.36 1515.55 1575.53 1512 Q1573.73 1508.44 1570.09 1508.44 M1570.09 1504.73 Q1575.9 1504.73 1578.96 1509.34 Q1582.04 1513.92 1582.04 1522.67 Q1582.04 1531.4 1578.96 1536.01 Q1575.9 1540.59 1570.09 1540.59 Q1564.28 1540.59 1561.21 1536.01 Q1558.15 1531.4 1558.15 1522.67 Q1558.15 1513.92 1561.21 1509.34 Q1564.28 1504.73 1570.09 1504.73 Z\" fill=\"#000000\" fill-rule=\"evenodd\" fill-opacity=\"1\" /><path clip-path=\"url(#clip1000)\" d=\"M 0 0 M1597.11 1508.44 Q1593.5 1508.44 1591.67 1512 Q1589.86 1515.55 1589.86 1522.67 Q1589.86 1529.78 1591.67 1533.35 Q1593.5 1536.89 1597.11 1536.89 Q1600.74 1536.89 1602.55 1533.35 Q1604.38 1529.78 1604.38 1522.67 Q1604.38 1515.55 1602.55 1512 Q1600.74 1508.44 1597.11 1508.44 M1597.11 1504.73 Q1602.92 1504.73 1605.97 1509.34 Q1609.05 1513.92 1609.05 1522.67 Q1609.05 1531.4 1605.97 1536.01 Q1602.92 1540.59 1597.11 1540.59 Q1591.3 1540.59 1588.22 1536.01 Q1585.16 1531.4 1585.16 1522.67 Q1585.16 1513.92 1588.22 1509.34 Q1591.3 1504.73 1597.11 1504.73 Z\" fill=\"#000000\" fill-rule=\"evenodd\" fill-opacity=\"1\" /><path clip-path=\"url(#clip1000)\" d=\"M 0 0 M1996.73 1509.43 L1984.93 1527.88 L1996.73 1527.88 L1996.73 1509.43 M1995.5 1505.36 L2001.38 1505.36 L2001.38 1527.88 L2006.31 1527.88 L2006.31 1531.77 L2001.38 1531.77 L2001.38 1539.92 L1996.73 1539.92 L1996.73 1531.77 L1981.13 1531.77 L1981.13 1527.26 L1995.5 1505.36 Z\" fill=\"#000000\" fill-rule=\"evenodd\" fill-opacity=\"1\" /><path clip-path=\"url(#clip1000)\" d=\"M 0 0 M2021.38 1508.44 Q2017.77 1508.44 2015.94 1512 Q2014.14 1515.55 2014.14 1522.67 Q2014.14 1529.78 2015.94 1533.35 Q2017.77 1536.89 2021.38 1536.89 Q2025.02 1536.89 2026.82 1533.35 Q2028.65 1529.78 2028.65 1522.67 Q2028.65 1515.55 2026.82 1512 Q2025.02 1508.44 2021.38 1508.44 M2021.38 1504.73 Q2027.19 1504.73 2030.25 1509.34 Q2033.33 1513.92 2033.33 1522.67 Q2033.33 1531.4 2030.25 1536.01 Q2027.19 1540.59 2021.38 1540.59 Q2015.57 1540.59 2012.5 1536.01 Q2009.44 1531.4 2009.44 1522.67 Q2009.44 1513.92 2012.5 1509.34 Q2015.57 1504.73 2021.38 1504.73 Z\" fill=\"#000000\" fill-rule=\"evenodd\" fill-opacity=\"1\" /><path clip-path=\"url(#clip1000)\" d=\"M 0 0 M2048.4 1508.44 Q2044.79 1508.44 2042.96 1512 Q2041.15 1515.55 2041.15 1522.67 Q2041.15 1529.78 2042.96 1533.35 Q2044.79 1536.89 2048.4 1536.89 Q2052.03 1536.89 2053.84 1533.35 Q2055.67 1529.78 2055.67 1522.67 Q2055.67 1515.55 2053.84 1512 Q2052.03 1508.44 2048.4 1508.44 M2048.4 1504.73 Q2054.21 1504.73 2057.26 1509.34 Q2060.34 1513.92 2060.34 1522.67 Q2060.34 1531.4 2057.26 1536.01 Q2054.21 1540.59 2048.4 1540.59 Q2042.59 1540.59 2039.51 1536.01 Q2036.45 1531.4 2036.45 1522.67 Q2036.45 1513.92 2039.51 1509.34 Q2042.59 1504.73 2048.4 1504.73 Z\" fill=\"#000000\" fill-rule=\"evenodd\" fill-opacity=\"1\" /><path clip-path=\"url(#clip1000)\" d=\"M 0 0 M64.543 1202.19 L72.1819 1202.19 L72.1819 1175.83 L63.8718 1177.49 L63.8718 1173.23 L72.1356 1171.57 L76.8115 1171.57 L76.8115 1202.19 L84.4503 1202.19 L84.4503 1206.13 L64.543 1206.13 L64.543 1202.19 Z\" fill=\"#000000\" fill-rule=\"evenodd\" fill-opacity=\"1\" /><path clip-path=\"url(#clip1000)\" d=\"M 0 0 M102.367 1175.64 L90.5614 1194.09 L102.367 1194.09 L102.367 1175.64 M101.14 1171.57 L107.02 1171.57 L107.02 1194.09 L111.95 1194.09 L111.95 1197.98 L107.02 1197.98 L107.02 1206.13 L102.367 1206.13 L102.367 1197.98 L86.7651 1197.98 L86.7651 1193.46 L101.14 1171.57 Z\" fill=\"#000000\" fill-rule=\"evenodd\" fill-opacity=\"1\" /><path clip-path=\"url(#clip1000)\" d=\"M 0 0 M127.02 1174.64 Q123.408 1174.64 121.58 1178.21 Q119.774 1181.75 119.774 1188.88 Q119.774 1195.99 121.58 1199.55 Q123.408 1203.09 127.02 1203.09 Q130.654 1203.09 132.459 1199.55 Q134.288 1195.99 134.288 1188.88 Q134.288 1181.75 132.459 1178.21 Q130.654 1174.64 127.02 1174.64 M127.02 1170.94 Q132.83 1170.94 135.885 1175.55 Q138.964 1180.13 138.964 1188.88 Q138.964 1197.61 135.885 1202.21 Q132.83 1206.8 127.02 1206.8 Q121.209 1206.8 118.131 1202.21 Q115.075 1197.61 115.075 1188.88 Q115.075 1180.13 118.131 1175.55 Q121.209 1170.94 127.02 1170.94 Z\" fill=\"#000000\" fill-rule=\"evenodd\" fill-opacity=\"1\" /><path clip-path=\"url(#clip1000)\" d=\"M 0 0 M64.8671 835.234 L72.506 835.234 L72.506 808.869 L64.1958 810.535 L64.1958 806.276 L72.4597 804.609 L77.1356 804.609 L77.1356 835.234 L84.7744 835.234 L84.7744 839.169 L64.8671 839.169 L64.8671 835.234 Z\" fill=\"#000000\" fill-rule=\"evenodd\" fill-opacity=\"1\" /><path clip-path=\"url(#clip1000)\" d=\"M 0 0 M100.422 820.026 Q97.2743 820.026 95.4225 822.179 Q93.5938 824.332 93.5938 828.082 Q93.5938 831.808 95.4225 833.984 Q97.2743 836.137 100.422 836.137 Q103.571 836.137 105.399 833.984 Q107.251 831.808 107.251 828.082 Q107.251 824.332 105.399 822.179 Q103.571 820.026 100.422 820.026 M109.705 805.373 L109.705 809.633 Q107.946 808.799 106.14 808.359 Q104.358 807.92 102.598 807.92 Q97.9688 807.92 95.5151 811.045 Q93.0846 814.17 92.7373 820.489 Q94.1031 818.475 96.1632 817.41 Q98.2234 816.322 100.7 816.322 Q105.909 816.322 108.918 819.494 Q111.95 822.642 111.95 828.082 Q111.95 833.406 108.802 836.623 Q105.654 839.841 100.422 839.841 Q94.4271 839.841 91.2559 835.257 Q88.0846 830.651 88.0846 821.924 Q88.0846 813.73 91.9735 808.869 Q95.8623 803.984 102.413 803.984 Q104.172 803.984 105.955 804.332 Q107.76 804.679 109.705 805.373 Z\" fill=\"#000000\" fill-rule=\"evenodd\" fill-opacity=\"1\" /><path clip-path=\"url(#clip1000)\" d=\"M 0 0 M127.02 807.688 Q123.408 807.688 121.58 811.253 Q119.774 814.795 119.774 821.924 Q119.774 829.031 121.58 832.595 Q123.408 836.137 127.02 836.137 Q130.654 836.137 132.459 832.595 Q134.288 829.031 134.288 821.924 Q134.288 814.795 132.459 811.253 Q130.654 807.688 127.02 807.688 M127.02 803.984 Q132.83 803.984 135.885 808.591 Q138.964 813.174 138.964 821.924 Q138.964 830.651 135.885 835.257 Q132.83 839.841 127.02 839.841 Q121.209 839.841 118.131 835.257 Q115.075 830.651 115.075 821.924 Q115.075 813.174 118.131 808.591 Q121.209 803.984 127.02 803.984 Z\" fill=\"#000000\" fill-rule=\"evenodd\" fill-opacity=\"1\" /><path clip-path=\"url(#clip1000)\" d=\"M 0 0 M65.1217 468.278 L72.7606 468.278 L72.7606 441.912 L64.4505 443.579 L64.4505 439.32 L72.7143 437.653 L77.3902 437.653 L77.3902 468.278 L85.029 468.278 L85.029 472.213 L65.1217 472.213 L65.1217 468.278 Z\" fill=\"#000000\" fill-rule=\"evenodd\" fill-opacity=\"1\" /><path clip-path=\"url(#clip1000)\" d=\"M 0 0 M100.098 455.801 Q96.7651 455.801 94.8438 457.583 Q92.9457 459.366 92.9457 462.491 Q92.9457 465.616 94.8438 467.398 Q96.7651 469.18 100.098 469.18 Q103.432 469.18 105.353 467.398 Q107.274 465.593 107.274 462.491 Q107.274 459.366 105.353 457.583 Q103.455 455.801 100.098 455.801 M95.4225 453.81 Q92.4133 453.069 90.7235 451.009 Q89.0568 448.949 89.0568 445.986 Q89.0568 441.843 91.9966 439.435 Q94.9595 437.028 100.098 437.028 Q105.26 437.028 108.2 439.435 Q111.14 441.843 111.14 445.986 Q111.14 448.949 109.45 451.009 Q107.784 453.069 104.797 453.81 Q108.177 454.597 110.052 456.889 Q111.95 459.181 111.95 462.491 Q111.95 467.514 108.872 470.199 Q105.816 472.884 100.098 472.884 Q94.3808 472.884 91.3022 470.199 Q88.2466 467.514 88.2466 462.491 Q88.2466 459.181 90.1448 456.889 Q92.0429 454.597 95.4225 453.81 M93.7096 446.426 Q93.7096 449.111 95.3762 450.616 Q97.066 452.12 100.098 452.12 Q103.108 452.12 104.797 450.616 Q106.51 449.111 106.51 446.426 Q106.51 443.741 104.797 442.236 Q103.108 440.732 100.098 440.732 Q97.066 440.732 95.3762 442.236 Q93.7096 443.741 93.7096 446.426 Z\" fill=\"#000000\" fill-rule=\"evenodd\" fill-opacity=\"1\" /><path clip-path=\"url(#clip1000)\" d=\"M 0 0 M127.02 440.732 Q123.408 440.732 121.58 444.296 Q119.774 447.838 119.774 454.968 Q119.774 462.074 121.58 465.639 Q123.408 469.18 127.02 469.18 Q130.654 469.18 132.459 465.639 Q134.288 462.074 134.288 454.968 Q134.288 447.838 132.459 444.296 Q130.654 440.732 127.02 440.732 M127.02 437.028 Q132.83 437.028 135.885 441.634 Q138.964 446.218 138.964 454.968 Q138.964 463.694 135.885 468.301 Q132.83 472.884 127.02 472.884 Q121.209 472.884 118.131 468.301 Q115.075 463.694 115.075 454.968 Q115.075 446.218 118.131 441.634 Q121.209 437.028 127.02 437.028 Z\" fill=\"#000000\" fill-rule=\"evenodd\" fill-opacity=\"1\" /><path clip-path=\"url(#clip1000)\" d=\"M 0 0 M68.6171 101.321 L84.9365 101.321 L84.9365 105.256 L62.9921 105.256 L62.9921 101.321 Q65.6541 98.5665 70.2375 93.9369 Q74.8439 89.2841 76.0245 87.9416 Q78.2698 85.4184 79.1494 83.6823 Q80.0522 81.9231 80.0522 80.2333 Q80.0522 77.4786 78.1078 75.7425 Q76.1865 74.0064 73.0847 74.0064 Q70.8856 74.0064 68.4319 74.7703 Q66.0014 75.5342 63.2236 77.0851 L63.2236 72.3629 Q66.0477 71.2287 68.5014 70.65 Q70.955 70.0713 72.9921 70.0713 Q78.3624 70.0713 81.5568 72.7565 Q84.7513 75.4416 84.7513 79.9323 Q84.7513 82.062 83.9411 83.9832 Q83.1541 85.8814 81.0476 88.474 Q80.4689 89.1453 77.367 92.3628 Q74.2652 95.5573 68.6171 101.321 Z\" fill=\"#000000\" fill-rule=\"evenodd\" fill-opacity=\"1\" /><path clip-path=\"url(#clip1000)\" d=\"M 0 0 M100.006 73.775 Q96.3947 73.775 94.566 77.3398 Q92.7605 80.8814 92.7605 88.011 Q92.7605 95.1174 94.566 98.6822 Q96.3947 102.224 100.006 102.224 Q103.64 102.224 105.446 98.6822 Q107.274 95.1174 107.274 88.011 Q107.274 80.8814 105.446 77.3398 Q103.64 73.775 100.006 73.775 M100.006 70.0713 Q105.816 70.0713 108.872 74.6777 Q111.95 79.261 111.95 88.011 Q111.95 96.7378 108.872 101.344 Q105.816 105.928 100.006 105.928 Q94.1957 105.928 91.117 101.344 Q88.0614 96.7378 88.0614 88.011 Q88.0614 79.261 91.117 74.6777 Q94.1957 70.0713 100.006 70.0713 Z\" fill=\"#000000\" fill-rule=\"evenodd\" fill-opacity=\"1\" /><path clip-path=\"url(#clip1000)\" d=\"M 0 0 M127.02 73.775 Q123.408 73.775 121.58 77.3398 Q119.774 80.8814 119.774 88.011 Q119.774 95.1174 121.58 98.6822 Q123.408 102.224 127.02 102.224 Q130.654 102.224 132.459 98.6822 Q134.288 95.1174 134.288 88.011 Q134.288 80.8814 132.459 77.3398 Q130.654 73.775 127.02 73.775 M127.02 70.0713 Q132.83 70.0713 135.885 74.6777 Q138.964 79.261 138.964 88.011 Q138.964 96.7378 135.885 101.344 Q132.83 105.928 127.02 105.928 Q121.209 105.928 118.131 101.344 Q115.075 96.7378 115.075 88.011 Q115.075 79.261 118.131 74.6777 Q121.209 70.0713 127.02 70.0713 Z\" fill=\"#000000\" fill-rule=\"evenodd\" fill-opacity=\"1\" /><polyline clip-path=\"url(#clip1002)\" style=\"stroke:#009af9; stroke-width:4; stroke-opacity:1; fill:none\" points=\"\n",
       "  224.939,1445.72 229.44,1445.72 233.941,473.281 238.441,473.281 242.942,473.281 247.443,473.281 251.944,473.281 256.444,473.281 260.945,473.281 265.446,473.281 \n",
       "  269.947,473.281 274.447,473.281 278.948,473.281 283.449,473.281 287.95,473.281 292.45,473.281 296.951,473.281 301.452,473.281 305.953,473.281 310.453,473.281 \n",
       "  314.954,473.281 319.455,473.281 323.956,473.281 328.456,473.281 332.957,473.281 337.458,473.281 341.959,473.281 346.459,473.281 350.96,473.281 355.461,473.281 \n",
       "  359.962,473.281 364.462,473.281 368.963,473.281 373.464,143.02 377.964,143.02 382.465,143.02 386.966,143.02 391.467,143.02 395.967,143.02 400.468,143.02 \n",
       "  404.969,143.02 409.47,143.02 413.97,87.9763 418.471,87.9763 422.972,87.9763 427.473,87.9763 431.973,87.9763 436.474,87.9763 440.975,87.9763 445.476,87.9763 \n",
       "  449.976,87.9763 454.477,87.9763 458.978,87.9763 463.479,87.9763 467.979,87.9763 472.48,87.9763 476.981,87.9763 481.482,87.9763 485.982,87.9763 490.483,87.9763 \n",
       "  494.984,87.9763 499.485,87.9763 503.985,87.9763 508.486,87.9763 512.987,87.9763 517.488,87.9763 521.988,87.9763 526.489,87.9763 530.99,87.9763 535.491,87.9763 \n",
       "  539.991,87.9763 544.492,87.9763 548.993,87.9763 553.493,87.9763 557.994,87.9763 562.495,87.9763 566.996,87.9763 571.496,87.9763 575.997,87.9763 580.498,87.9763 \n",
       "  584.999,87.9763 589.499,87.9763 594,87.9763 598.501,87.9763 603.002,87.9763 607.502,87.9763 612.003,87.9763 616.504,87.9763 621.005,87.9763 625.505,87.9763 \n",
       "  630.006,87.9763 634.507,87.9763 639.008,87.9763 643.508,87.9763 648.009,87.9763 652.51,87.9763 657.011,87.9763 661.511,87.9763 666.012,87.9763 670.513,87.9763 \n",
       "  675.014,87.9763 679.514,87.9763 684.015,87.9763 688.516,87.9763 693.017,87.9763 697.517,87.9763 702.018,87.9763 706.519,87.9763 711.02,87.9763 715.52,87.9763 \n",
       "  720.021,87.9763 724.522,87.9763 729.023,87.9763 733.523,87.9763 738.024,87.9763 742.525,87.9763 747.025,87.9763 751.526,87.9763 756.027,87.9763 760.528,87.9763 \n",
       "  765.028,87.9763 769.529,87.9763 774.03,87.9763 778.531,87.9763 783.031,87.9763 787.532,87.9763 792.033,87.9763 796.534,87.9763 801.034,87.9763 805.535,87.9763 \n",
       "  810.036,87.9763 814.537,87.9763 819.037,87.9763 823.538,87.9763 828.039,87.9763 832.54,87.9763 837.04,87.9763 841.541,87.9763 846.042,87.9763 850.543,87.9763 \n",
       "  855.043,87.9763 859.544,87.9763 864.045,87.9763 868.546,87.9763 873.046,87.9763 877.547,87.9763 882.048,87.9763 886.549,87.9763 891.049,87.9763 895.55,87.9763 \n",
       "  900.051,87.9763 904.552,87.9763 909.052,87.9763 913.553,87.9763 918.054,87.9763 922.554,87.9763 927.055,87.9763 931.556,87.9763 936.057,87.9763 940.557,87.9763 \n",
       "  945.058,87.9763 949.559,87.9763 954.06,87.9763 958.56,87.9763 963.061,87.9763 967.562,87.9763 972.063,87.9763 976.563,87.9763 981.064,87.9763 985.565,87.9763 \n",
       "  990.066,87.9763 994.566,87.9763 999.067,87.9763 1003.57,87.9763 1008.07,87.9763 1012.57,87.9763 1017.07,87.9763 1021.57,87.9763 1026.07,87.9763 1030.57,87.9763 \n",
       "  1035.07,87.9763 1039.57,87.9763 1044.07,87.9763 1048.58,87.9763 1053.08,87.9763 1057.58,87.9763 1062.08,87.9763 1066.58,87.9763 1071.08,87.9763 1075.58,87.9763 \n",
       "  1080.08,87.9763 1084.58,87.9763 1089.08,87.9763 1093.58,87.9763 1098.08,87.9763 1102.58,87.9763 1107.09,87.9763 1111.59,87.9763 1116.09,87.9763 1120.59,87.9763 \n",
       "  1125.09,87.9763 1129.59,87.9763 1134.09,87.9763 1138.59,87.9763 1143.09,87.9763 1147.59,87.9763 1152.09,87.9763 1156.59,87.9763 1161.09,87.9763 1165.59,87.9763 \n",
       "  1170.1,87.9763 1174.6,87.9763 1179.1,87.9763 1183.6,87.9763 1188.1,87.9763 1192.6,87.9763 1197.1,87.9763 1201.6,87.9763 1206.1,87.9763 1210.6,87.9763 \n",
       "  1215.1,87.9763 1219.6,87.9763 1224.1,87.9763 1228.61,87.9763 1233.11,87.9763 1237.61,87.9763 1242.11,87.9763 1246.61,87.9763 1251.11,87.9763 1255.61,87.9763 \n",
       "  1260.11,87.9763 1264.61,87.9763 1269.11,87.9763 1273.61,87.9763 1278.11,87.9763 1282.61,87.9763 1287.11,87.9763 1291.62,87.9763 1296.12,87.9763 1300.62,87.9763 \n",
       "  1305.12,87.9763 1309.62,87.9763 1314.12,87.9763 1318.62,87.9763 1323.12,87.9763 1327.62,87.9763 1332.12,87.9763 1336.62,87.9763 1341.12,87.9763 1345.62,87.9763 \n",
       "  1350.13,87.9763 1354.63,87.9763 1359.13,87.9763 1363.63,87.9763 1368.13,87.9763 1372.63,87.9763 1377.13,87.9763 1381.63,87.9763 1386.13,87.9763 1390.63,87.9763 \n",
       "  1395.13,87.9763 1399.63,87.9763 1404.13,87.9763 1408.63,87.9763 1413.14,87.9763 1417.64,87.9763 1422.14,87.9763 1426.64,87.9763 1431.14,87.9763 1435.64,87.9763 \n",
       "  1440.14,87.9763 1444.64,87.9763 1449.14,87.9763 1453.64,87.9763 1458.14,87.9763 1462.64,87.9763 1467.14,87.9763 1471.65,87.9763 1476.15,87.9763 1480.65,87.9763 \n",
       "  1485.15,87.9763 1489.65,87.9763 1494.15,87.9763 1498.65,87.9763 1503.15,87.9763 1507.65,87.9763 1512.15,87.9763 1516.65,87.9763 1521.15,87.9763 1525.65,87.9763 \n",
       "  1530.15,87.9763 1534.66,87.9763 1539.16,87.9763 1543.66,87.9763 1548.16,87.9763 1552.66,87.9763 1557.16,87.9763 1561.66,87.9763 1566.16,87.9763 1570.66,87.9763 \n",
       "  1575.16,87.9763 1579.66,87.9763 1584.16,87.9763 1588.66,87.9763 1593.17,87.9763 1597.67,87.9763 1602.17,87.9763 1606.67,87.9763 1611.17,87.9763 1615.67,87.9763 \n",
       "  1620.17,87.9763 1624.67,87.9763 1629.17,87.9763 1633.67,87.9763 1638.17,87.9763 1642.67,87.9763 1647.17,87.9763 1651.68,87.9763 1656.18,87.9763 1660.68,87.9763 \n",
       "  1665.18,87.9763 1669.68,87.9763 1674.18,87.9763 1678.68,87.9763 1683.18,87.9763 1687.68,87.9763 1692.18,87.9763 1696.68,87.9763 1701.18,87.9763 1705.68,87.9763 \n",
       "  1710.18,87.9763 1714.69,87.9763 1719.19,87.9763 1723.69,87.9763 1728.19,87.9763 1732.69,87.9763 1737.19,87.9763 1741.69,87.9763 1746.19,87.9763 1750.69,87.9763 \n",
       "  1755.19,87.9763 1759.69,87.9763 1764.19,87.9763 1768.69,87.9763 1773.2,87.9763 1777.7,87.9763 1782.2,87.9763 1786.7,87.9763 1791.2,87.9763 1795.7,87.9763 \n",
       "  1800.2,87.9763 1804.7,87.9763 1809.2,87.9763 1813.7,87.9763 1818.2,87.9763 1822.7,87.9763 1827.2,87.9763 1831.7,87.9763 1836.21,87.9763 1840.71,87.9763 \n",
       "  1845.21,87.9763 1849.71,87.9763 1854.21,87.9763 1858.71,87.9763 1863.21,87.9763 1867.71,87.9763 1872.21,87.9763 1876.71,87.9763 1881.21,87.9763 1885.71,87.9763 \n",
       "  1890.21,87.9763 1894.72,87.9763 1899.22,87.9763 1903.72,87.9763 1908.22,87.9763 1912.72,87.9763 1917.22,87.9763 1921.72,87.9763 1926.22,87.9763 1930.72,87.9763 \n",
       "  1935.22,87.9763 1939.72,87.9763 1944.22,87.9763 1948.72,87.9763 1953.22,87.9763 1957.73,87.9763 1962.23,87.9763 1966.73,87.9763 1971.23,87.9763 1975.73,87.9763 \n",
       "  1980.23,87.9763 1984.73,87.9763 1989.23,87.9763 1993.73,87.9763 1998.23,87.9763 2002.73,87.9763 2007.23,87.9763 2011.73,87.9763 2016.24,87.9763 2020.74,87.9763 \n",
       "  2025.24,87.9763 2029.74,87.9763 2034.24,87.9763 2038.74,87.9763 2043.24,87.9763 2047.74,87.9763 2052.24,87.9763 2056.74,87.9763 2061.24,87.9763 2065.74,87.9763 \n",
       "  2070.24,87.9763 2074.74,87.9763 2079.25,87.9763 2083.75,87.9763 2088.25,87.9763 2092.75,87.9763 2097.25,87.9763 2101.75,87.9763 2106.25,87.9763 2110.75,87.9763 \n",
       "  2115.25,87.9763 2119.75,87.9763 2124.25,87.9763 2128.75,87.9763 2133.25,87.9763 2137.76,87.9763 2142.26,87.9763 2146.76,87.9763 2151.26,87.9763 2155.76,87.9763 \n",
       "  2160.26,87.9763 2164.76,87.9763 2169.26,87.9763 2173.76,87.9763 2178.26,87.9763 2182.76,87.9763 2187.26,87.9763 2191.76,87.9763 2196.27,87.9763 2200.77,87.9763 \n",
       "  2205.27,87.9763 2209.77,87.9763 2214.27,87.9763 2218.77,87.9763 2223.27,87.9763 2227.77,87.9763 2232.27,87.9763 2236.77,87.9763 2241.27,87.9763 2245.77,87.9763 \n",
       "  2250.27,87.9763 2254.77,87.9763 2259.28,87.9763 2263.78,87.9763 2268.28,87.9763 2272.78,87.9763 2277.28,87.9763 2281.78,87.9763 2286.28,87.9763 2290.78,87.9763 \n",
       "  \n",
       "  \"/>\n",
       "<path clip-path=\"url(#clip1000)\" d=\"\n",
       "M1989.74 251.724 L2280.76 251.724 L2280.76 130.764 L1989.74 130.764  Z\n",
       "  \" fill=\"#ffffff\" fill-rule=\"evenodd\" fill-opacity=\"1\"/>\n",
       "<polyline clip-path=\"url(#clip1000)\" style=\"stroke:#000000; stroke-width:4; stroke-opacity:1; fill:none\" points=\"\n",
       "  1989.74,251.724 2280.76,251.724 2280.76,130.764 1989.74,130.764 1989.74,251.724 \n",
       "  \"/>\n",
       "<polyline clip-path=\"url(#clip1000)\" style=\"stroke:#009af9; stroke-width:4; stroke-opacity:1; fill:none\" points=\"\n",
       "  2013.74,191.244 2157.74,191.244 \n",
       "  \"/>\n",
       "<path clip-path=\"url(#clip1000)\" d=\"M 0 0 M2195.58 210.931 Q2193.77 215.561 2192.06 216.973 Q2190.35 218.385 2187.48 218.385 L2184.08 218.385 L2184.08 214.82 L2186.58 214.82 Q2188.33 214.82 2189.31 213.987 Q2190.28 213.154 2191.46 210.052 L2192.22 208.107 L2181.74 182.598 L2186.25 182.598 L2194.35 202.876 L2202.46 182.598 L2206.97 182.598 L2195.58 210.931 Z\" fill=\"#000000\" fill-rule=\"evenodd\" fill-opacity=\"1\" /><path clip-path=\"url(#clip1000)\" d=\"M 0 0 M2212.85 204.589 L2220.49 204.589 L2220.49 178.223 L2212.18 179.89 L2212.18 175.631 L2220.44 173.964 L2225.12 173.964 L2225.12 204.589 L2232.76 204.589 L2232.76 208.524 L2212.85 208.524 L2212.85 204.589 Z\" fill=\"#000000\" fill-rule=\"evenodd\" fill-opacity=\"1\" /></svg>\n"
      ]
     },
     "execution_count": 40,
     "metadata": {},
     "output_type": "execute_result"
    }
   ],
   "source": [
    "fits, expert = one_plus_lambda(layers, n_gens, play_cartpole, 𝜆)\n",
    "plot(fits)"
   ]
  },
  {
   "cell_type": "markdown",
   "id": "marked-monthly",
   "metadata": {
    "slideshow": {
     "slide_type": "slide"
    }
   },
   "source": [
    "## Evolutionary Strategies"
   ]
  },
  {
   "cell_type": "code",
   "execution_count": 42,
   "id": "pressing-counter",
   "metadata": {},
   "outputs": [
    {
     "data": {
      "text/plain": [
       "ES (generic function with 4 methods)"
      ]
     },
     "execution_count": 42,
     "metadata": {},
     "output_type": "execute_result"
    }
   ],
   "source": [
    "using Statistics\n",
    "using LinearAlgebra\n",
    "\n",
    "function ES(layers::Array, num_generations::Int, f::Function, npop::Int=50, sigma=0.5, alpha=0.01)\n",
    "    µ = Individual(layers::Array) # Center\n",
    "    n = length(µ.genes)\n",
    "    evaluate!(µ, f)\n",
    "\n",
    "    expert = µ # Best individual so far\n",
    "\n",
    "    fits = zeros(num_generations)\n",
    "\n",
    "    for i in eachindex(fits)\n",
    "        population = Array{Individual}(undef, 𝜆)\n",
    "        best = 1\n",
    "        for j in eachindex(population)\n",
    "            new_genes = µ.genes + randn(n) .* sigma\n",
    "            population[j] = Individual(layers, new_genes)\n",
    "            evaluate!(population[j], f)\n",
    "            if population[j].fitness > population[best].fitness\n",
    "                best = j\n",
    "            end\n",
    "        end\n",
    "\n",
    "        if population[best].fitness >= expert.fitness\n",
    "            expert = population[best]\n",
    "        end\n",
    "\n",
    "        fits[i] = expert.fitness\n",
    "\n",
    "        # TODO: µ update\n",
    "        step = 1 / (npop * sigma)\n",
    "        µ.genes = µ.genes .+ step .* alpha\n",
    "\n",
    "        print(i, \"/\",  num_generations, \" > \", expert.fitness, \"\\t\\t\\r\")\n",
    "    end\n",
    "    fits, expert\n",
    "end\n"
   ]
  },
  {
   "cell_type": "code",
   "execution_count": 43,
   "id": "c90b71d0",
   "metadata": {},
   "outputs": [],
   "source": [
    "## Uncomment and run the next line to load a solution \n",
    "# IJulia.load(\"solutions/es.jl\") "
   ]
  },
  {
   "cell_type": "code",
   "execution_count": 44,
   "id": "superb-sequence",
   "metadata": {
    "slideshow": {
     "slide_type": "subslide"
    }
   },
   "outputs": [
    {
     "data": {
      "text/plain": [
       "386"
      ]
     },
     "execution_count": 44,
     "metadata": {},
     "output_type": "execute_result"
    }
   ],
   "source": [
    "layers = [4, 16, 16, 2]\n",
    "ind = Individual(layers)\n",
    "n = length(ind.genes)"
   ]
  },
  {
   "cell_type": "code",
   "execution_count": 45,
   "id": "personalized-future",
   "metadata": {},
   "outputs": [
    {
     "name": "stdout",
     "output_type": "stream",
     "text": [
      "50/50 > 200.0\t\t\t > 200.0\t\t/50 > 200.0\t\t\t\t > 200.0\t\t\r"
     ]
    },
    {
     "data": {
      "image/svg+xml": [
       "<?xml version=\"1.0\" encoding=\"utf-8\"?>\n",
       "<svg xmlns=\"http://www.w3.org/2000/svg\" xmlns:xlink=\"http://www.w3.org/1999/xlink\" width=\"600\" height=\"400\" viewBox=\"0 0 2400 1600\">\n",
       "<defs>\n",
       "  <clipPath id=\"clip1400\">\n",
       "    <rect x=\"0\" y=\"0\" width=\"2400\" height=\"1600\"/>\n",
       "  </clipPath>\n",
       "</defs>\n",
       "<path clip-path=\"url(#clip1400)\" d=\"\n",
       "M0 1600 L2400 1600 L2400 0 L0 0  Z\n",
       "  \" fill=\"#ffffff\" fill-rule=\"evenodd\" fill-opacity=\"1\"/>\n",
       "<defs>\n",
       "  <clipPath id=\"clip1401\">\n",
       "    <rect x=\"480\" y=\"0\" width=\"1681\" height=\"1600\"/>\n",
       "  </clipPath>\n",
       "</defs>\n",
       "<path clip-path=\"url(#clip1400)\" d=\"\n",
       "M161.506 1486.45 L2352.76 1486.45 L2352.76 47.2441 L161.506 47.2441  Z\n",
       "  \" fill=\"#ffffff\" fill-rule=\"evenodd\" fill-opacity=\"1\"/>\n",
       "<defs>\n",
       "  <clipPath id=\"clip1402\">\n",
       "    <rect x=\"161\" y=\"47\" width=\"2192\" height=\"1440\"/>\n",
       "  </clipPath>\n",
       "</defs>\n",
       "<polyline clip-path=\"url(#clip1402)\" style=\"stroke:#000000; stroke-width:2; stroke-opacity:0.1; fill:none\" points=\"\n",
       "  181.334,1486.45 181.334,47.2441 \n",
       "  \"/>\n",
       "<polyline clip-path=\"url(#clip1402)\" style=\"stroke:#000000; stroke-width:2; stroke-opacity:0.1; fill:none\" points=\"\n",
       "  603.215,1486.45 603.215,47.2441 \n",
       "  \"/>\n",
       "<polyline clip-path=\"url(#clip1402)\" style=\"stroke:#000000; stroke-width:2; stroke-opacity:0.1; fill:none\" points=\"\n",
       "  1025.1,1486.45 1025.1,47.2441 \n",
       "  \"/>\n",
       "<polyline clip-path=\"url(#clip1402)\" style=\"stroke:#000000; stroke-width:2; stroke-opacity:0.1; fill:none\" points=\"\n",
       "  1446.98,1486.45 1446.98,47.2441 \n",
       "  \"/>\n",
       "<polyline clip-path=\"url(#clip1402)\" style=\"stroke:#000000; stroke-width:2; stroke-opacity:0.1; fill:none\" points=\"\n",
       "  1868.86,1486.45 1868.86,47.2441 \n",
       "  \"/>\n",
       "<polyline clip-path=\"url(#clip1402)\" style=\"stroke:#000000; stroke-width:2; stroke-opacity:0.1; fill:none\" points=\"\n",
       "  2290.74,1486.45 2290.74,47.2441 \n",
       "  \"/>\n",
       "<polyline clip-path=\"url(#clip1402)\" style=\"stroke:#000000; stroke-width:2; stroke-opacity:0.1; fill:none\" points=\"\n",
       "  161.506,1298.7 2352.76,1298.7 \n",
       "  \"/>\n",
       "<polyline clip-path=\"url(#clip1402)\" style=\"stroke:#000000; stroke-width:2; stroke-opacity:0.1; fill:none\" points=\"\n",
       "  161.506,1039.26 2352.76,1039.26 \n",
       "  \"/>\n",
       "<polyline clip-path=\"url(#clip1402)\" style=\"stroke:#000000; stroke-width:2; stroke-opacity:0.1; fill:none\" points=\"\n",
       "  161.506,779.818 2352.76,779.818 \n",
       "  \"/>\n",
       "<polyline clip-path=\"url(#clip1402)\" style=\"stroke:#000000; stroke-width:2; stroke-opacity:0.1; fill:none\" points=\"\n",
       "  161.506,520.377 2352.76,520.377 \n",
       "  \"/>\n",
       "<polyline clip-path=\"url(#clip1402)\" style=\"stroke:#000000; stroke-width:2; stroke-opacity:0.1; fill:none\" points=\"\n",
       "  161.506,260.937 2352.76,260.937 \n",
       "  \"/>\n",
       "<polyline clip-path=\"url(#clip1400)\" style=\"stroke:#000000; stroke-width:4; stroke-opacity:1; fill:none\" points=\"\n",
       "  161.506,1486.45 2352.76,1486.45 \n",
       "  \"/>\n",
       "<polyline clip-path=\"url(#clip1400)\" style=\"stroke:#000000; stroke-width:4; stroke-opacity:1; fill:none\" points=\"\n",
       "  161.506,1486.45 161.506,47.2441 \n",
       "  \"/>\n",
       "<polyline clip-path=\"url(#clip1400)\" style=\"stroke:#000000; stroke-width:4; stroke-opacity:1; fill:none\" points=\"\n",
       "  181.334,1486.45 181.334,1469.18 \n",
       "  \"/>\n",
       "<polyline clip-path=\"url(#clip1400)\" style=\"stroke:#000000; stroke-width:4; stroke-opacity:1; fill:none\" points=\"\n",
       "  603.215,1486.45 603.215,1469.18 \n",
       "  \"/>\n",
       "<polyline clip-path=\"url(#clip1400)\" style=\"stroke:#000000; stroke-width:4; stroke-opacity:1; fill:none\" points=\"\n",
       "  1025.1,1486.45 1025.1,1469.18 \n",
       "  \"/>\n",
       "<polyline clip-path=\"url(#clip1400)\" style=\"stroke:#000000; stroke-width:4; stroke-opacity:1; fill:none\" points=\"\n",
       "  1446.98,1486.45 1446.98,1469.18 \n",
       "  \"/>\n",
       "<polyline clip-path=\"url(#clip1400)\" style=\"stroke:#000000; stroke-width:4; stroke-opacity:1; fill:none\" points=\"\n",
       "  1868.86,1486.45 1868.86,1469.18 \n",
       "  \"/>\n",
       "<polyline clip-path=\"url(#clip1400)\" style=\"stroke:#000000; stroke-width:4; stroke-opacity:1; fill:none\" points=\"\n",
       "  2290.74,1486.45 2290.74,1469.18 \n",
       "  \"/>\n",
       "<polyline clip-path=\"url(#clip1400)\" style=\"stroke:#000000; stroke-width:4; stroke-opacity:1; fill:none\" points=\"\n",
       "  161.506,1298.7 187.801,1298.7 \n",
       "  \"/>\n",
       "<polyline clip-path=\"url(#clip1400)\" style=\"stroke:#000000; stroke-width:4; stroke-opacity:1; fill:none\" points=\"\n",
       "  161.506,1039.26 187.801,1039.26 \n",
       "  \"/>\n",
       "<polyline clip-path=\"url(#clip1400)\" style=\"stroke:#000000; stroke-width:4; stroke-opacity:1; fill:none\" points=\"\n",
       "  161.506,779.818 187.801,779.818 \n",
       "  \"/>\n",
       "<polyline clip-path=\"url(#clip1400)\" style=\"stroke:#000000; stroke-width:4; stroke-opacity:1; fill:none\" points=\"\n",
       "  161.506,520.377 187.801,520.377 \n",
       "  \"/>\n",
       "<polyline clip-path=\"url(#clip1400)\" style=\"stroke:#000000; stroke-width:4; stroke-opacity:1; fill:none\" points=\"\n",
       "  161.506,260.937 187.801,260.937 \n",
       "  \"/>\n",
       "<path clip-path=\"url(#clip1400)\" d=\"M 0 0 M181.334 1508.44 Q177.723 1508.44 175.894 1512 Q174.089 1515.55 174.089 1522.67 Q174.089 1529.78 175.894 1533.35 Q177.723 1536.89 181.334 1536.89 Q184.968 1536.89 186.774 1533.35 Q188.603 1529.78 188.603 1522.67 Q188.603 1515.55 186.774 1512 Q184.968 1508.44 181.334 1508.44 M181.334 1504.73 Q187.144 1504.73 190.2 1509.34 Q193.278 1513.92 193.278 1522.67 Q193.278 1531.4 190.2 1536.01 Q187.144 1540.59 181.334 1540.59 Q175.524 1540.59 172.445 1536.01 Q169.39 1531.4 169.39 1522.67 Q169.39 1513.92 172.445 1509.34 Q175.524 1504.73 181.334 1504.73 Z\" fill=\"#000000\" fill-rule=\"evenodd\" fill-opacity=\"1\" /><path clip-path=\"url(#clip1400)\" d=\"M 0 0 M580.09 1535.98 L587.729 1535.98 L587.729 1509.62 L579.419 1511.29 L579.419 1507.03 L587.683 1505.36 L592.359 1505.36 L592.359 1535.98 L599.998 1535.98 L599.998 1539.92 L580.09 1539.92 L580.09 1535.98 Z\" fill=\"#000000\" fill-rule=\"evenodd\" fill-opacity=\"1\" /><path clip-path=\"url(#clip1400)\" d=\"M 0 0 M615.067 1508.44 Q611.456 1508.44 609.627 1512 Q607.822 1515.55 607.822 1522.67 Q607.822 1529.78 609.627 1533.35 Q611.456 1536.89 615.067 1536.89 Q618.701 1536.89 620.507 1533.35 Q622.335 1529.78 622.335 1522.67 Q622.335 1515.55 620.507 1512 Q618.701 1508.44 615.067 1508.44 M615.067 1504.73 Q620.877 1504.73 623.933 1509.34 Q627.011 1513.92 627.011 1522.67 Q627.011 1531.4 623.933 1536.01 Q620.877 1540.59 615.067 1540.59 Q609.257 1540.59 606.178 1536.01 Q603.123 1531.4 603.123 1522.67 Q603.123 1513.92 606.178 1509.34 Q609.257 1504.73 615.067 1504.73 Z\" fill=\"#000000\" fill-rule=\"evenodd\" fill-opacity=\"1\" /><path clip-path=\"url(#clip1400)\" d=\"M 0 0 M1006.24 1535.98 L1022.56 1535.98 L1022.56 1539.92 L1000.62 1539.92 L1000.62 1535.98 Q1003.28 1533.23 1007.86 1528.6 Q1012.47 1523.95 1013.65 1522.61 Q1015.89 1520.08 1016.77 1518.35 Q1017.68 1516.59 1017.68 1514.9 Q1017.68 1512.14 1015.73 1510.41 Q1013.81 1508.67 1010.71 1508.67 Q1008.51 1508.67 1006.06 1509.43 Q1003.63 1510.2 1000.85 1511.75 L1000.85 1507.03 Q1003.67 1505.89 1006.13 1505.31 Q1008.58 1504.73 1010.62 1504.73 Q1015.99 1504.73 1019.18 1507.42 Q1022.38 1510.11 1022.38 1514.6 Q1022.38 1516.73 1021.57 1518.65 Q1020.78 1520.54 1018.67 1523.14 Q1018.09 1523.81 1014.99 1527.03 Q1011.89 1530.22 1006.24 1535.98 Z\" fill=\"#000000\" fill-rule=\"evenodd\" fill-opacity=\"1\" /><path clip-path=\"url(#clip1400)\" d=\"M 0 0 M1037.63 1508.44 Q1034.02 1508.44 1032.19 1512 Q1030.39 1515.55 1030.39 1522.67 Q1030.39 1529.78 1032.19 1533.35 Q1034.02 1536.89 1037.63 1536.89 Q1041.27 1536.89 1043.07 1533.35 Q1044.9 1529.78 1044.9 1522.67 Q1044.9 1515.55 1043.07 1512 Q1041.27 1508.44 1037.63 1508.44 M1037.63 1504.73 Q1043.44 1504.73 1046.5 1509.34 Q1049.58 1513.92 1049.58 1522.67 Q1049.58 1531.4 1046.5 1536.01 Q1043.44 1540.59 1037.63 1540.59 Q1031.82 1540.59 1028.74 1536.01 Q1025.69 1531.4 1025.69 1522.67 Q1025.69 1513.92 1028.74 1509.34 Q1031.82 1504.73 1037.63 1504.73 Z\" fill=\"#000000\" fill-rule=\"evenodd\" fill-opacity=\"1\" /><path clip-path=\"url(#clip1400)\" d=\"M 0 0 M1437.72 1521.29 Q1441.07 1522 1442.95 1524.27 Q1444.85 1526.54 1444.85 1529.87 Q1444.85 1534.99 1441.33 1537.79 Q1437.81 1540.59 1431.33 1540.59 Q1429.15 1540.59 1426.84 1540.15 Q1424.55 1539.73 1422.09 1538.88 L1422.09 1534.36 Q1424.04 1535.5 1426.35 1536.08 Q1428.67 1536.66 1431.19 1536.66 Q1435.59 1536.66 1437.88 1534.92 Q1440.19 1533.18 1440.19 1529.87 Q1440.19 1526.82 1438.04 1525.11 Q1435.91 1523.37 1432.09 1523.37 L1428.07 1523.37 L1428.07 1519.53 L1432.28 1519.53 Q1435.73 1519.53 1437.56 1518.16 Q1439.38 1516.77 1439.38 1514.18 Q1439.38 1511.52 1437.49 1510.11 Q1435.61 1508.67 1432.09 1508.67 Q1430.17 1508.67 1427.97 1509.09 Q1425.77 1509.5 1423.13 1510.38 L1423.13 1506.22 Q1425.8 1505.48 1428.11 1505.11 Q1430.45 1504.73 1432.51 1504.73 Q1437.83 1504.73 1440.94 1507.17 Q1444.04 1509.57 1444.04 1513.69 Q1444.04 1516.56 1442.39 1518.55 Q1440.75 1520.52 1437.72 1521.29 Z\" fill=\"#000000\" fill-rule=\"evenodd\" fill-opacity=\"1\" /><path clip-path=\"url(#clip1400)\" d=\"M 0 0 M1459.92 1508.44 Q1456.31 1508.44 1454.48 1512 Q1452.67 1515.55 1452.67 1522.67 Q1452.67 1529.78 1454.48 1533.35 Q1456.31 1536.89 1459.92 1536.89 Q1463.55 1536.89 1465.36 1533.35 Q1467.19 1529.78 1467.19 1522.67 Q1467.19 1515.55 1465.36 1512 Q1463.55 1508.44 1459.92 1508.44 M1459.92 1504.73 Q1465.73 1504.73 1468.78 1509.34 Q1471.86 1513.92 1471.86 1522.67 Q1471.86 1531.4 1468.78 1536.01 Q1465.73 1540.59 1459.92 1540.59 Q1454.11 1540.59 1451.03 1536.01 Q1447.97 1531.4 1447.97 1522.67 Q1447.97 1513.92 1451.03 1509.34 Q1454.11 1504.73 1459.92 1504.73 Z\" fill=\"#000000\" fill-rule=\"evenodd\" fill-opacity=\"1\" /><path clip-path=\"url(#clip1400)\" d=\"M 0 0 M1858.36 1509.43 L1846.56 1527.88 L1858.36 1527.88 L1858.36 1509.43 M1857.13 1505.36 L1863.01 1505.36 L1863.01 1527.88 L1867.94 1527.88 L1867.94 1531.77 L1863.01 1531.77 L1863.01 1539.92 L1858.36 1539.92 L1858.36 1531.77 L1842.76 1531.77 L1842.76 1527.26 L1857.13 1505.36 Z\" fill=\"#000000\" fill-rule=\"evenodd\" fill-opacity=\"1\" /><path clip-path=\"url(#clip1400)\" d=\"M 0 0 M1883.01 1508.44 Q1879.4 1508.44 1877.57 1512 Q1875.77 1515.55 1875.77 1522.67 Q1875.77 1529.78 1877.57 1533.35 Q1879.4 1536.89 1883.01 1536.89 Q1886.65 1536.89 1888.45 1533.35 Q1890.28 1529.78 1890.28 1522.67 Q1890.28 1515.55 1888.45 1512 Q1886.65 1508.44 1883.01 1508.44 M1883.01 1504.73 Q1888.82 1504.73 1891.88 1509.34 Q1894.96 1513.92 1894.96 1522.67 Q1894.96 1531.4 1891.88 1536.01 Q1888.82 1540.59 1883.01 1540.59 Q1877.2 1540.59 1874.12 1536.01 Q1871.07 1531.4 1871.07 1522.67 Q1871.07 1513.92 1874.12 1509.34 Q1877.2 1504.73 1883.01 1504.73 Z\" fill=\"#000000\" fill-rule=\"evenodd\" fill-opacity=\"1\" /><path clip-path=\"url(#clip1400)\" d=\"M 0 0 M2267.51 1505.36 L2285.87 1505.36 L2285.87 1509.3 L2271.79 1509.3 L2271.79 1517.77 Q2272.81 1517.42 2273.83 1517.26 Q2274.85 1517.07 2275.87 1517.07 Q2281.65 1517.07 2285.03 1520.24 Q2288.41 1523.42 2288.41 1528.83 Q2288.41 1534.41 2284.94 1537.51 Q2281.47 1540.59 2275.15 1540.59 Q2272.97 1540.59 2270.7 1540.22 Q2268.46 1539.85 2266.05 1539.11 L2266.05 1534.41 Q2268.14 1535.54 2270.36 1536.1 Q2272.58 1536.66 2275.06 1536.66 Q2279.06 1536.66 2281.4 1534.55 Q2283.74 1532.44 2283.74 1528.83 Q2283.74 1525.22 2281.4 1523.11 Q2279.06 1521.01 2275.06 1521.01 Q2273.18 1521.01 2271.31 1521.42 Q2269.45 1521.84 2267.51 1522.72 L2267.51 1505.36 Z\" fill=\"#000000\" fill-rule=\"evenodd\" fill-opacity=\"1\" /><path clip-path=\"url(#clip1400)\" d=\"M 0 0 M2303.48 1508.44 Q2299.87 1508.44 2298.04 1512 Q2296.24 1515.55 2296.24 1522.67 Q2296.24 1529.78 2298.04 1533.35 Q2299.87 1536.89 2303.48 1536.89 Q2307.12 1536.89 2308.92 1533.35 Q2310.75 1529.78 2310.75 1522.67 Q2310.75 1515.55 2308.92 1512 Q2307.12 1508.44 2303.48 1508.44 M2303.48 1504.73 Q2309.29 1504.73 2312.35 1509.34 Q2315.43 1513.92 2315.43 1522.67 Q2315.43 1531.4 2312.35 1536.01 Q2309.29 1540.59 2303.48 1540.59 Q2297.67 1540.59 2294.59 1536.01 Q2291.54 1531.4 2291.54 1522.67 Q2291.54 1513.92 2294.59 1509.34 Q2297.67 1504.73 2303.48 1504.73 Z\" fill=\"#000000\" fill-rule=\"evenodd\" fill-opacity=\"1\" /><path clip-path=\"url(#clip1400)\" d=\"M 0 0 M98.9642 1296.84 Q95.816 1296.84 93.9642 1298.99 Q92.1355 1301.14 92.1355 1304.89 Q92.1355 1308.62 93.9642 1310.79 Q95.816 1312.95 98.9642 1312.95 Q102.112 1312.95 103.941 1310.79 Q105.793 1308.62 105.793 1304.89 Q105.793 1301.14 103.941 1298.99 Q102.112 1296.84 98.9642 1296.84 M108.247 1282.18 L108.247 1286.44 Q106.487 1285.61 104.682 1285.17 Q102.899 1284.73 101.14 1284.73 Q96.5105 1284.73 94.0568 1287.85 Q91.6262 1290.98 91.279 1297.3 Q92.6447 1295.28 94.7049 1294.22 Q96.7651 1293.13 99.2419 1293.13 Q104.45 1293.13 107.459 1296.3 Q110.492 1299.45 110.492 1304.89 Q110.492 1310.22 107.344 1313.43 Q104.196 1316.65 98.9642 1316.65 Q92.9688 1316.65 89.7975 1312.07 Q86.6263 1307.46 86.6263 1298.73 Q86.6263 1290.54 90.5151 1285.68 Q94.404 1280.79 100.955 1280.79 Q102.714 1280.79 104.497 1281.14 Q106.302 1281.49 108.247 1282.18 Z\" fill=\"#000000\" fill-rule=\"evenodd\" fill-opacity=\"1\" /><path clip-path=\"url(#clip1400)\" d=\"M 0 0 M125.561 1284.5 Q121.95 1284.5 120.121 1288.06 Q118.316 1291.6 118.316 1298.73 Q118.316 1305.84 120.121 1309.41 Q121.95 1312.95 125.561 1312.95 Q129.195 1312.95 131.001 1309.41 Q132.83 1305.84 132.83 1298.73 Q132.83 1291.6 131.001 1288.06 Q129.195 1284.5 125.561 1284.5 M125.561 1280.79 Q131.371 1280.79 134.427 1285.4 Q137.506 1289.98 137.506 1298.73 Q137.506 1307.46 134.427 1312.07 Q131.371 1316.65 125.561 1316.65 Q119.751 1316.65 116.672 1312.07 Q113.617 1307.46 113.617 1298.73 Q113.617 1289.98 116.672 1285.4 Q119.751 1280.79 125.561 1280.79 Z\" fill=\"#000000\" fill-rule=\"evenodd\" fill-opacity=\"1\" /><path clip-path=\"url(#clip1400)\" d=\"M 0 0 M88.8716 1055.82 L88.8716 1051.56 Q90.6309 1052.4 92.4364 1052.83 Q94.242 1053.27 95.9781 1053.27 Q100.608 1053.27 103.038 1050.17 Q105.492 1047.05 105.839 1040.71 Q104.497 1042.7 102.436 1043.76 Q100.376 1044.83 97.8762 1044.83 Q92.691 1044.83 89.6586 1041.7 Q86.6494 1038.55 86.6494 1033.11 Q86.6494 1027.79 89.7975 1024.57 Q92.9457 1021.35 98.1771 1021.35 Q104.172 1021.35 107.321 1025.96 Q110.492 1030.54 110.492 1039.29 Q110.492 1047.46 106.603 1052.35 Q102.737 1057.21 96.1864 1057.21 Q94.4271 1057.21 92.6216 1056.86 Q90.8161 1056.52 88.8716 1055.82 M98.1771 1041.17 Q101.325 1041.17 103.154 1039.02 Q105.006 1036.86 105.006 1033.11 Q105.006 1029.39 103.154 1027.23 Q101.325 1025.06 98.1771 1025.06 Q95.029 1025.06 93.1771 1027.23 Q91.3485 1029.39 91.3485 1033.11 Q91.3485 1036.86 93.1771 1039.02 Q95.029 1041.17 98.1771 1041.17 Z\" fill=\"#000000\" fill-rule=\"evenodd\" fill-opacity=\"1\" /><path clip-path=\"url(#clip1400)\" d=\"M 0 0 M125.561 1025.06 Q121.95 1025.06 120.121 1028.62 Q118.316 1032.16 118.316 1039.29 Q118.316 1046.4 120.121 1049.96 Q121.95 1053.51 125.561 1053.51 Q129.195 1053.51 131.001 1049.96 Q132.83 1046.4 132.83 1039.29 Q132.83 1032.16 131.001 1028.62 Q129.195 1025.06 125.561 1025.06 M125.561 1021.35 Q131.371 1021.35 134.427 1025.96 Q137.506 1030.54 137.506 1039.29 Q137.506 1048.02 134.427 1052.63 Q131.371 1057.21 125.561 1057.21 Q119.751 1057.21 116.672 1052.63 Q113.617 1048.02 113.617 1039.29 Q113.617 1030.54 116.672 1025.96 Q119.751 1021.35 125.561 1021.35 Z\" fill=\"#000000\" fill-rule=\"evenodd\" fill-opacity=\"1\" /><path clip-path=\"url(#clip1400)\" d=\"M 0 0 M65.168 793.163 L72.8069 793.163 L72.8069 766.797 L64.4967 768.464 L64.4967 764.205 L72.7606 762.538 L77.4365 762.538 L77.4365 793.163 L85.0753 793.163 L85.0753 797.098 L65.168 797.098 L65.168 793.163 Z\" fill=\"#000000\" fill-rule=\"evenodd\" fill-opacity=\"1\" /><path clip-path=\"url(#clip1400)\" d=\"M 0 0 M94.1725 793.163 L110.492 793.163 L110.492 797.098 L88.5475 797.098 L88.5475 793.163 Q91.2096 790.408 95.7929 785.779 Q100.399 781.126 101.58 779.783 Q103.825 777.26 104.705 775.524 Q105.608 773.765 105.608 772.075 Q105.608 769.32 103.663 767.584 Q101.742 765.848 98.6401 765.848 Q96.441 765.848 93.9873 766.612 Q91.5568 767.376 88.779 768.927 L88.779 764.205 Q91.6031 763.07 94.0568 762.492 Q96.5105 761.913 98.5475 761.913 Q103.918 761.913 107.112 764.598 Q110.307 767.283 110.307 771.774 Q110.307 773.904 109.497 775.825 Q108.709 777.723 106.603 780.316 Q106.024 780.987 102.922 784.205 Q99.8206 787.399 94.1725 793.163 Z\" fill=\"#000000\" fill-rule=\"evenodd\" fill-opacity=\"1\" /><path clip-path=\"url(#clip1400)\" d=\"M 0 0 M125.561 765.617 Q121.95 765.617 120.121 769.181 Q118.316 772.723 118.316 779.853 Q118.316 786.959 120.121 790.524 Q121.95 794.066 125.561 794.066 Q129.195 794.066 131.001 790.524 Q132.83 786.959 132.83 779.853 Q132.83 772.723 131.001 769.181 Q129.195 765.617 125.561 765.617 M125.561 761.913 Q131.371 761.913 134.427 766.519 Q137.506 771.103 137.506 779.853 Q137.506 788.58 134.427 793.186 Q131.371 797.769 125.561 797.769 Q119.751 797.769 116.672 793.186 Q113.617 788.58 113.617 779.853 Q113.617 771.103 116.672 766.519 Q119.751 761.913 125.561 761.913 Z\" fill=\"#000000\" fill-rule=\"evenodd\" fill-opacity=\"1\" /><path clip-path=\"url(#clip1400)\" d=\"M 0 0 M64.5662 533.722 L72.205 533.722 L72.205 507.357 L63.8949 509.023 L63.8949 504.764 L72.1587 503.097 L76.8346 503.097 L76.8346 533.722 L84.4735 533.722 L84.4735 537.657 L64.5662 537.657 L64.5662 533.722 Z\" fill=\"#000000\" fill-rule=\"evenodd\" fill-opacity=\"1\" /><path clip-path=\"url(#clip1400)\" d=\"M 0 0 M89.5892 503.097 L107.946 503.097 L107.946 507.033 L93.8716 507.033 L93.8716 515.505 Q94.8901 515.157 95.9086 514.995 Q96.9271 514.81 97.9456 514.81 Q103.733 514.81 107.112 517.982 Q110.492 521.153 110.492 526.569 Q110.492 532.148 107.02 535.25 Q103.547 538.329 97.2281 538.329 Q95.0521 538.329 92.7836 537.958 Q90.5383 537.588 88.1309 536.847 L88.1309 532.148 Q90.2142 533.282 92.4364 533.838 Q94.6586 534.393 97.1355 534.393 Q101.14 534.393 103.478 532.287 Q105.816 530.181 105.816 526.569 Q105.816 522.958 103.478 520.852 Q101.14 518.745 97.1355 518.745 Q95.2605 518.745 93.3855 519.162 Q91.5336 519.579 89.5892 520.458 L89.5892 503.097 Z\" fill=\"#000000\" fill-rule=\"evenodd\" fill-opacity=\"1\" /><path clip-path=\"url(#clip1400)\" d=\"M 0 0 M125.561 506.176 Q121.95 506.176 120.121 509.741 Q118.316 513.282 118.316 520.412 Q118.316 527.519 120.121 531.083 Q121.95 534.625 125.561 534.625 Q129.195 534.625 131.001 531.083 Q132.83 527.519 132.83 520.412 Q132.83 513.282 131.001 509.741 Q129.195 506.176 125.561 506.176 M125.561 502.472 Q131.371 502.472 134.427 507.079 Q137.506 511.662 137.506 520.412 Q137.506 529.139 134.427 533.745 Q131.371 538.329 125.561 538.329 Q119.751 538.329 116.672 533.745 Q113.617 529.139 113.617 520.412 Q113.617 511.662 116.672 507.079 Q119.751 502.472 125.561 502.472 Z\" fill=\"#000000\" fill-rule=\"evenodd\" fill-opacity=\"1\" /><path clip-path=\"url(#clip1400)\" d=\"M 0 0 M63.6634 274.282 L71.3023 274.282 L71.3023 247.916 L62.9921 249.583 L62.9921 245.323 L71.256 243.657 L75.9319 243.657 L75.9319 274.282 L83.5707 274.282 L83.5707 278.217 L63.6634 278.217 L63.6634 274.282 Z\" fill=\"#000000\" fill-rule=\"evenodd\" fill-opacity=\"1\" /><path clip-path=\"url(#clip1400)\" d=\"M 0 0 M98.6401 261.805 Q95.3068 261.805 93.3855 263.587 Q91.4873 265.37 91.4873 268.495 Q91.4873 271.62 93.3855 273.402 Q95.3068 275.184 98.6401 275.184 Q101.973 275.184 103.895 273.402 Q105.816 271.596 105.816 268.495 Q105.816 265.37 103.895 263.587 Q101.997 261.805 98.6401 261.805 M93.9642 259.814 Q90.9549 259.073 89.2651 257.013 Q87.5985 254.953 87.5985 251.99 Q87.5985 247.847 90.5383 245.439 Q93.5012 243.032 98.6401 243.032 Q103.802 243.032 106.742 245.439 Q109.682 247.847 109.682 251.99 Q109.682 254.953 107.992 257.013 Q106.325 259.073 103.339 259.814 Q106.719 260.601 108.594 262.893 Q110.492 265.184 110.492 268.495 Q110.492 273.518 107.413 276.203 Q104.358 278.888 98.6401 278.888 Q92.9225 278.888 89.8438 276.203 Q86.7883 273.518 86.7883 268.495 Q86.7883 265.184 88.6864 262.893 Q90.5846 260.601 93.9642 259.814 M92.2512 252.43 Q92.2512 255.115 93.9179 256.62 Q95.6077 258.124 98.6401 258.124 Q101.649 258.124 103.339 256.62 Q105.052 255.115 105.052 252.43 Q105.052 249.745 103.339 248.24 Q101.649 246.735 98.6401 246.735 Q95.6077 246.735 93.9179 248.24 Q92.2512 249.745 92.2512 252.43 Z\" fill=\"#000000\" fill-rule=\"evenodd\" fill-opacity=\"1\" /><path clip-path=\"url(#clip1400)\" d=\"M 0 0 M125.561 246.735 Q121.95 246.735 120.121 250.3 Q118.316 253.842 118.316 260.971 Q118.316 268.078 120.121 271.643 Q121.95 275.184 125.561 275.184 Q129.195 275.184 131.001 271.643 Q132.83 268.078 132.83 260.971 Q132.83 253.842 131.001 250.3 Q129.195 246.735 125.561 246.735 M125.561 243.032 Q131.371 243.032 134.427 247.638 Q137.506 252.221 137.506 260.971 Q137.506 269.698 134.427 274.305 Q131.371 278.888 125.561 278.888 Q119.751 278.888 116.672 274.305 Q113.617 269.698 113.617 260.971 Q113.617 252.221 116.672 247.638 Q119.751 243.032 125.561 243.032 Z\" fill=\"#000000\" fill-rule=\"evenodd\" fill-opacity=\"1\" /><polyline clip-path=\"url(#clip1402)\" style=\"stroke:#009af9; stroke-width:4; stroke-opacity:1; fill:none\" points=\"\n",
       "  223.522,1445.72 265.71,87.9763 307.898,87.9763 350.086,87.9763 392.275,87.9763 434.463,87.9763 476.651,87.9763 518.839,87.9763 561.027,87.9763 603.215,87.9763 \n",
       "  645.403,87.9763 687.591,87.9763 729.779,87.9763 771.968,87.9763 814.156,87.9763 856.344,87.9763 898.532,87.9763 940.72,87.9763 982.908,87.9763 1025.1,87.9763 \n",
       "  1067.28,87.9763 1109.47,87.9763 1151.66,87.9763 1193.85,87.9763 1236.04,87.9763 1278.22,87.9763 1320.41,87.9763 1362.6,87.9763 1404.79,87.9763 1446.98,87.9763 \n",
       "  1489.17,87.9763 1531.35,87.9763 1573.54,87.9763 1615.73,87.9763 1657.92,87.9763 1700.11,87.9763 1742.29,87.9763 1784.48,87.9763 1826.67,87.9763 1868.86,87.9763 \n",
       "  1911.05,87.9763 1953.23,87.9763 1995.42,87.9763 2037.61,87.9763 2079.8,87.9763 2121.99,87.9763 2164.18,87.9763 2206.36,87.9763 2248.55,87.9763 2290.74,87.9763 \n",
       "  \n",
       "  \"/>\n",
       "<path clip-path=\"url(#clip1400)\" d=\"\n",
       "M1989.74 251.724 L2280.76 251.724 L2280.76 130.764 L1989.74 130.764  Z\n",
       "  \" fill=\"#ffffff\" fill-rule=\"evenodd\" fill-opacity=\"1\"/>\n",
       "<polyline clip-path=\"url(#clip1400)\" style=\"stroke:#000000; stroke-width:4; stroke-opacity:1; fill:none\" points=\"\n",
       "  1989.74,251.724 2280.76,251.724 2280.76,130.764 1989.74,130.764 1989.74,251.724 \n",
       "  \"/>\n",
       "<polyline clip-path=\"url(#clip1400)\" style=\"stroke:#009af9; stroke-width:4; stroke-opacity:1; fill:none\" points=\"\n",
       "  2013.74,191.244 2157.74,191.244 \n",
       "  \"/>\n",
       "<path clip-path=\"url(#clip1400)\" d=\"M 0 0 M2195.58 210.931 Q2193.77 215.561 2192.06 216.973 Q2190.35 218.385 2187.48 218.385 L2184.08 218.385 L2184.08 214.82 L2186.58 214.82 Q2188.33 214.82 2189.31 213.987 Q2190.28 213.154 2191.46 210.052 L2192.22 208.107 L2181.74 182.598 L2186.25 182.598 L2194.35 202.876 L2202.46 182.598 L2206.97 182.598 L2195.58 210.931 Z\" fill=\"#000000\" fill-rule=\"evenodd\" fill-opacity=\"1\" /><path clip-path=\"url(#clip1400)\" d=\"M 0 0 M2212.85 204.589 L2220.49 204.589 L2220.49 178.223 L2212.18 179.89 L2212.18 175.631 L2220.44 173.964 L2225.12 173.964 L2225.12 204.589 L2232.76 204.589 L2232.76 208.524 L2212.85 208.524 L2212.85 204.589 Z\" fill=\"#000000\" fill-rule=\"evenodd\" fill-opacity=\"1\" /></svg>\n"
      ]
     },
     "execution_count": 45,
     "metadata": {},
     "output_type": "execute_result"
    }
   ],
   "source": [
    "fits, expert = ES(layers, 50, play_cartpole, 5)\n",
    "plot(fits)"
   ]
  },
  {
   "cell_type": "code",
   "execution_count": 47,
   "id": "5e3faf9b",
   "metadata": {},
   "outputs": [
    {
     "data": {
      "text/plain": [
       "200.0"
      ]
     },
     "execution_count": 47,
     "metadata": {},
     "output_type": "execute_result"
    }
   ],
   "source": [
    "play_cartpole(expert, true)"
   ]
  },
  {
   "cell_type": "code",
   "execution_count": null,
   "id": "8784ea94",
   "metadata": {},
   "outputs": [],
   "source": []
  }
 ],
 "metadata": {
  "celltoolbar": "Diaporama",
  "kernelspec": {
   "display_name": "Julia 1.6.1",
   "language": "julia",
   "name": "julia-1.6"
  },
  "language_info": {
   "file_extension": ".jl",
   "mimetype": "application/julia",
   "name": "julia",
   "version": "1.6.1"
  }
 },
 "nbformat": 4,
 "nbformat_minor": 5
}
